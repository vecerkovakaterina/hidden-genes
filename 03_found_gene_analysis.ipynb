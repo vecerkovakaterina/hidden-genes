{
 "cells": [
  {
   "cell_type": "markdown",
   "id": "3b0d34c9",
   "metadata": {},
   "source": [
    "# Analyze found target nucleotide sequences"
   ]
  },
  {
   "cell_type": "code",
   "execution_count": 1,
   "id": "8373370d",
   "metadata": {},
   "outputs": [],
   "source": [
    "import pandas as pd\n",
    "import numpy as np\n",
    "from Bio import SeqIO\n",
    "from Bio.SeqUtils import GC\n",
    "import pathlib\n",
    "import seaborn as sns\n",
    "import matplotlib.pyplot as plt\n",
    "import gget\n",
    "import random\n",
    "from dna_features_viewer import GraphicFeature, GraphicRecord"
   ]
  },
  {
   "cell_type": "code",
   "execution_count": 2,
   "id": "4e328693",
   "metadata": {},
   "outputs": [],
   "source": [
    "# read gene search results\n",
    "gene_search_filename = \"genes_to_search_22_mar_23_100_reptile_genes_results\"\n",
    "gene_search_file = pathlib.Path(gene_search_filename)\n",
    "genes_df = pd.read_csv(gene_search_file, index_col=0)\n",
    "genes_df.reset_index(drop=True, inplace=True)"
   ]
  },
  {
   "cell_type": "code",
   "execution_count": 3,
   "id": "16e227f7",
   "metadata": {},
   "outputs": [],
   "source": [
    "genes_df = genes_df[:10]"
   ]
  },
  {
   "cell_type": "code",
   "execution_count": 4,
   "id": "0a61e3f9",
   "metadata": {},
   "outputs": [
    {
     "data": {
      "text/html": [
       "<div>\n",
       "<style scoped>\n",
       "    .dataframe tbody tr th:only-of-type {\n",
       "        vertical-align: middle;\n",
       "    }\n",
       "\n",
       "    .dataframe tbody tr th {\n",
       "        vertical-align: top;\n",
       "    }\n",
       "\n",
       "    .dataframe thead th {\n",
       "        text-align: right;\n",
       "    }\n",
       "</style>\n",
       "<table border=\"1\" class=\"dataframe\">\n",
       "  <thead>\n",
       "    <tr style=\"text-align: right;\">\n",
       "      <th></th>\n",
       "      <th>organism_target</th>\n",
       "      <th>organism_with_ortholog</th>\n",
       "      <th>ortholog_ensembl_id</th>\n",
       "      <th>left_neighbor_target</th>\n",
       "      <th>right_neighbor_target</th>\n",
       "      <th>left_neighbor_scaffold_id_target</th>\n",
       "      <th>right_neighbor_scaffold_id_target</th>\n",
       "      <th>nt_seq_target</th>\n",
       "      <th>protein_blast_db</th>\n",
       "      <th>blastx_results</th>\n",
       "    </tr>\n",
       "  </thead>\n",
       "  <tbody>\n",
       "    <tr>\n",
       "      <th>0</th>\n",
       "      <td>anolis_carolinensis</td>\n",
       "      <td>homo_sapiens</td>\n",
       "      <td>ENSG00000069943</td>\n",
       "      <td>ENSACAG00000006873</td>\n",
       "      <td>ENSACAG00000006826</td>\n",
       "      <td>AAWZ02036658.1</td>\n",
       "      <td>AAWZ02037309.1</td>\n",
       "      <td>NaN</td>\n",
       "      <td>NaN</td>\n",
       "      <td>NaN</td>\n",
       "    </tr>\n",
       "    <tr>\n",
       "      <th>1</th>\n",
       "      <td>anolis_carolinensis</td>\n",
       "      <td>homo_sapiens</td>\n",
       "      <td>ENSG00000149090</td>\n",
       "      <td>ENSACAG00000004365</td>\n",
       "      <td>ENSACAG00000005180</td>\n",
       "      <td>1</td>\n",
       "      <td>1</td>\n",
       "      <td>TTACAGTTCCCTGACACAAACTGAGTTGATCAGAGTCTCACTTTGC...</td>\n",
       "      <td>anolis_carolinensis_ENSG00000149090.fasta</td>\n",
       "      <td>anolis_carolinensis_ENSG00000149090.out</td>\n",
       "    </tr>\n",
       "    <tr>\n",
       "      <th>2</th>\n",
       "      <td>anolis_carolinensis</td>\n",
       "      <td>homo_sapiens</td>\n",
       "      <td>ENSG00000169604</td>\n",
       "      <td>ENSACAG00000037210</td>\n",
       "      <td>ENSACAG00000037210</td>\n",
       "      <td>AAWZ02038318.1</td>\n",
       "      <td>AAWZ02038318.1</td>\n",
       "      <td>NaN</td>\n",
       "      <td>NaN</td>\n",
       "      <td>NaN</td>\n",
       "    </tr>\n",
       "    <tr>\n",
       "      <th>3</th>\n",
       "      <td>pelodiscus_sinensis</td>\n",
       "      <td>homo_sapiens</td>\n",
       "      <td>ENSG00000155229</td>\n",
       "      <td>ENSPSIG00000007380</td>\n",
       "      <td>ENSPSIG00000007380</td>\n",
       "      <td>JH206457.1</td>\n",
       "      <td>JH206457.1</td>\n",
       "      <td>NaN</td>\n",
       "      <td>NaN</td>\n",
       "      <td>NaN</td>\n",
       "    </tr>\n",
       "    <tr>\n",
       "      <th>4</th>\n",
       "      <td>pelodiscus_sinensis</td>\n",
       "      <td>homo_sapiens</td>\n",
       "      <td>ENSG00000072952</td>\n",
       "      <td>ENSPSIG00000007284</td>\n",
       "      <td>ENSPSIG00000006368</td>\n",
       "      <td>JH206164.1</td>\n",
       "      <td>JH210139.1</td>\n",
       "      <td>NaN</td>\n",
       "      <td>NaN</td>\n",
       "      <td>NaN</td>\n",
       "    </tr>\n",
       "    <tr>\n",
       "      <th>5</th>\n",
       "      <td>pelodiscus_sinensis</td>\n",
       "      <td>homo_sapiens</td>\n",
       "      <td>ENSG00000136010</td>\n",
       "      <td>ENSPSIG00000016866</td>\n",
       "      <td>ENSPSIG00000016709</td>\n",
       "      <td>JH224648.1</td>\n",
       "      <td>JH224648.1</td>\n",
       "      <td>CAGCAATACTATTTCACAACAGGATCTGCAGGTGCAATACTGGAGA...</td>\n",
       "      <td>pelodiscus_sinensis_ENSG00000136010.fasta</td>\n",
       "      <td>pelodiscus_sinensis_ENSG00000136010.out</td>\n",
       "    </tr>\n",
       "    <tr>\n",
       "      <th>6</th>\n",
       "      <td>pelodiscus_sinensis</td>\n",
       "      <td>homo_sapiens</td>\n",
       "      <td>ENSG00000092439</td>\n",
       "      <td>ENSPSIG00000018029</td>\n",
       "      <td>ENSPSIG00000008469</td>\n",
       "      <td>JH224677.1</td>\n",
       "      <td>JH212494.1</td>\n",
       "      <td>NaN</td>\n",
       "      <td>NaN</td>\n",
       "      <td>NaN</td>\n",
       "    </tr>\n",
       "    <tr>\n",
       "      <th>7</th>\n",
       "      <td>anolis_carolinensis</td>\n",
       "      <td>homo_sapiens</td>\n",
       "      <td>ENSG00000167972</td>\n",
       "      <td>ENSACAG00000013796</td>\n",
       "      <td>ENSACAG00000001657</td>\n",
       "      <td>GL343827.1</td>\n",
       "      <td>GL343621.1</td>\n",
       "      <td>NaN</td>\n",
       "      <td>NaN</td>\n",
       "      <td>NaN</td>\n",
       "    </tr>\n",
       "    <tr>\n",
       "      <th>8</th>\n",
       "      <td>pelodiscus_sinensis</td>\n",
       "      <td>homo_sapiens</td>\n",
       "      <td>ENSG00000117408</td>\n",
       "      <td>ENSPSIG00000013770</td>\n",
       "      <td>ENSPSIG00000012991</td>\n",
       "      <td>JH211923.1</td>\n",
       "      <td>JH209937.1</td>\n",
       "      <td>NaN</td>\n",
       "      <td>NaN</td>\n",
       "      <td>NaN</td>\n",
       "    </tr>\n",
       "    <tr>\n",
       "      <th>9</th>\n",
       "      <td>anolis_carolinensis</td>\n",
       "      <td>homo_sapiens</td>\n",
       "      <td>ENSG00000151148</td>\n",
       "      <td>ENSACAG00000011719</td>\n",
       "      <td>ENSACAG00000011719</td>\n",
       "      <td>AAWZ02041607.1</td>\n",
       "      <td>AAWZ02041607.1</td>\n",
       "      <td>NaN</td>\n",
       "      <td>NaN</td>\n",
       "      <td>NaN</td>\n",
       "    </tr>\n",
       "  </tbody>\n",
       "</table>\n",
       "</div>"
      ],
      "text/plain": [
       "       organism_target organism_with_ortholog ortholog_ensembl_id  \\\n",
       "0  anolis_carolinensis           homo_sapiens     ENSG00000069943   \n",
       "1  anolis_carolinensis           homo_sapiens     ENSG00000149090   \n",
       "2  anolis_carolinensis           homo_sapiens     ENSG00000169604   \n",
       "3  pelodiscus_sinensis           homo_sapiens     ENSG00000155229   \n",
       "4  pelodiscus_sinensis           homo_sapiens     ENSG00000072952   \n",
       "5  pelodiscus_sinensis           homo_sapiens     ENSG00000136010   \n",
       "6  pelodiscus_sinensis           homo_sapiens     ENSG00000092439   \n",
       "7  anolis_carolinensis           homo_sapiens     ENSG00000167972   \n",
       "8  pelodiscus_sinensis           homo_sapiens     ENSG00000117408   \n",
       "9  anolis_carolinensis           homo_sapiens     ENSG00000151148   \n",
       "\n",
       "  left_neighbor_target right_neighbor_target left_neighbor_scaffold_id_target  \\\n",
       "0   ENSACAG00000006873    ENSACAG00000006826                   AAWZ02036658.1   \n",
       "1   ENSACAG00000004365    ENSACAG00000005180                                1   \n",
       "2   ENSACAG00000037210    ENSACAG00000037210                   AAWZ02038318.1   \n",
       "3   ENSPSIG00000007380    ENSPSIG00000007380                       JH206457.1   \n",
       "4   ENSPSIG00000007284    ENSPSIG00000006368                       JH206164.1   \n",
       "5   ENSPSIG00000016866    ENSPSIG00000016709                       JH224648.1   \n",
       "6   ENSPSIG00000018029    ENSPSIG00000008469                       JH224677.1   \n",
       "7   ENSACAG00000013796    ENSACAG00000001657                       GL343827.1   \n",
       "8   ENSPSIG00000013770    ENSPSIG00000012991                       JH211923.1   \n",
       "9   ENSACAG00000011719    ENSACAG00000011719                   AAWZ02041607.1   \n",
       "\n",
       "  right_neighbor_scaffold_id_target  \\\n",
       "0                    AAWZ02037309.1   \n",
       "1                                 1   \n",
       "2                    AAWZ02038318.1   \n",
       "3                        JH206457.1   \n",
       "4                        JH210139.1   \n",
       "5                        JH224648.1   \n",
       "6                        JH212494.1   \n",
       "7                        GL343621.1   \n",
       "8                        JH209937.1   \n",
       "9                    AAWZ02041607.1   \n",
       "\n",
       "                                       nt_seq_target  \\\n",
       "0                                                NaN   \n",
       "1  TTACAGTTCCCTGACACAAACTGAGTTGATCAGAGTCTCACTTTGC...   \n",
       "2                                                NaN   \n",
       "3                                                NaN   \n",
       "4                                                NaN   \n",
       "5  CAGCAATACTATTTCACAACAGGATCTGCAGGTGCAATACTGGAGA...   \n",
       "6                                                NaN   \n",
       "7                                                NaN   \n",
       "8                                                NaN   \n",
       "9                                                NaN   \n",
       "\n",
       "                            protein_blast_db  \\\n",
       "0                                        NaN   \n",
       "1  anolis_carolinensis_ENSG00000149090.fasta   \n",
       "2                                        NaN   \n",
       "3                                        NaN   \n",
       "4                                        NaN   \n",
       "5  pelodiscus_sinensis_ENSG00000136010.fasta   \n",
       "6                                        NaN   \n",
       "7                                        NaN   \n",
       "8                                        NaN   \n",
       "9                                        NaN   \n",
       "\n",
       "                            blastx_results  \n",
       "0                                      NaN  \n",
       "1  anolis_carolinensis_ENSG00000149090.out  \n",
       "2                                      NaN  \n",
       "3                                      NaN  \n",
       "4                                      NaN  \n",
       "5  pelodiscus_sinensis_ENSG00000136010.out  \n",
       "6                                      NaN  \n",
       "7                                      NaN  \n",
       "8                                      NaN  \n",
       "9                                      NaN  "
      ]
     },
     "execution_count": 4,
     "metadata": {},
     "output_type": "execute_result"
    }
   ],
   "source": [
    "genes_df"
   ]
  },
  {
   "cell_type": "markdown",
   "id": "43214573",
   "metadata": {},
   "source": [
    "## Target sequence characteristics (GC%, N%)"
   ]
  },
  {
   "cell_type": "code",
   "execution_count": 5,
   "id": "713510d7",
   "metadata": {},
   "outputs": [],
   "source": [
    "# get GC% for found target areas (ideally gene sequences, but we do not have those yet)\n",
    "def get_gc_percentage(seq: str):\n",
    "    gc_p = GC(seq)\n",
    "    gc_p = np.round(gc_p, 1)\n",
    "    return gc_p"
   ]
  },
  {
   "cell_type": "code",
   "execution_count": 6,
   "id": "1b4516d0",
   "metadata": {},
   "outputs": [],
   "source": [
    "for i in range(0, len(genes_df.index)):\n",
    "    if type(genes_df.loc[i, \"nt_seq_target\"]) == str:\n",
    "         genes_df.loc[i, \"nt_seq_target_GC%\"] = get_gc_percentage(genes_df.loc[i, \"nt_seq_target\"])"
   ]
  },
  {
   "cell_type": "code",
   "execution_count": 7,
   "id": "eeeab713",
   "metadata": {},
   "outputs": [],
   "source": [
    "# get GC% for found target areas (ideally gene sequences, but we do not have those yet)\n",
    "def get_n_percentage(seq: str):\n",
    "    n_c = seq.count(\"N\")\n",
    "    n_p = n_c / len(seq)\n",
    "    n_p = np.round(n_p, 1)\n",
    "    return n_p"
   ]
  },
  {
   "cell_type": "code",
   "execution_count": 8,
   "id": "55d8ecbe",
   "metadata": {},
   "outputs": [],
   "source": [
    "for i in range(0, len(genes_df.index)):\n",
    "    if type(genes_df.loc[i, \"nt_seq_target\"]) == str:\n",
    "         genes_df.loc[i, \"nt_seq_target_N%\"] = get_n_percentage(genes_df.loc[i, \"nt_seq_target\"])"
   ]
  },
  {
   "cell_type": "code",
   "execution_count": 9,
   "id": "83165280",
   "metadata": {},
   "outputs": [],
   "source": [
    "def get_df_column_mean(col: pd.Series):\n",
    "    return np.round(col.mean(), 2)"
   ]
  },
  {
   "cell_type": "code",
   "execution_count": 10,
   "id": "03adf7f9",
   "metadata": {},
   "outputs": [
    {
     "name": "stdout",
     "output_type": "stream",
     "text": [
      "Mean GC% of target sequence: 39.35\n",
      "Mean N% of target sequence: 0.0\n"
     ]
    }
   ],
   "source": [
    "mean_gc = get_df_column_mean(genes_df[\"nt_seq_target_GC%\"])\n",
    "mean_n = get_df_column_mean(genes_df[\"nt_seq_target_N%\"])\n",
    "\n",
    "print(f\"Mean GC% of target sequence: {mean_gc}\")\n",
    "print(f\"Mean N% of target sequence: {mean_n}\")"
   ]
  },
  {
   "cell_type": "markdown",
   "id": "26433cc8",
   "metadata": {},
   "source": [
    "## BLAST hits"
   ]
  },
  {
   "cell_type": "code",
   "execution_count": 5,
   "id": "c5dacdd3",
   "metadata": {},
   "outputs": [],
   "source": [
    "protein_libraries = genes_df.loc[genes_df[\"protein_blast_db\"].notna(), \"protein_blast_db\"].values.tolist()\n",
    "blastx_out_filenames = genes_df.loc[genes_df[\"blastx_results\"].notna(), \"blastx_results\"].values.tolist()"
   ]
  },
  {
   "cell_type": "code",
   "execution_count": 6,
   "id": "fd37e91b",
   "metadata": {},
   "outputs": [],
   "source": [
    "outfmt_header = [\"qseqid\", \"sseqid\", \"pident\", \"length\", \"mismatch\", \"gapopen\", \"qstart\", \"qend\", \"sstart\", \"send\", \"evalue\", \"bitscore\"]"
   ]
  },
  {
   "cell_type": "code",
   "execution_count": 13,
   "id": "3bb783dd",
   "metadata": {},
   "outputs": [],
   "source": [
    "# get protein library coverage (% of library proteins from library that have a hit)\n",
    "for library, result in zip(protein_libraries, blastx_out_filenames):\n",
    "    records = SeqIO.parse(library, \"fasta\")\n",
    "    library_size = len(list(records)) \n",
    "    result_df = pd.read_csv(result, sep=\"\\t\", header=None, names=outfmt_header)\n",
    "    results_size = result_df[\"sseqid\"].nunique()\n",
    "    if results_size == 0:\n",
    "        coverage = 0\n",
    "    else:\n",
    "        coverage = np.round((results_size / library_size) * 100, 2)\n",
    "    genes_df.loc[(genes_df[\"protein_blast_db\"] == library) & (genes_df[\"blastx_results\"] == result), \"library_coverage\"] = coverage"
   ]
  },
  {
   "cell_type": "code",
   "execution_count": 14,
   "id": "2c280fab",
   "metadata": {},
   "outputs": [],
   "source": [
    "# get metrics\n",
    "highest_bitscores = []\n",
    "alignment_lengths = []\n",
    "alignment_percentages = []\n",
    "all_bitscores = []\n",
    "\n",
    "for library, result in zip(protein_libraries, blastx_out_filenames):\n",
    "    result_df = pd.read_csv(result, sep=\"\\t\", header=None, names=outfmt_header)\n",
    "    result_df = result_df[[\"sseqid\", \"bitscore\", \"length\"]]\n",
    "\n",
    "    bitscores = result_df[\"bitscore\"].values.tolist()\n",
    "    all_bitscores.append(bitscores)\n",
    "    \n",
    "    highest_scores = result_df.groupby(\"sseqid\").max()[\"bitscore\"].values.tolist()\n",
    "    highest_bitscores.append(highest_scores)\n",
    "\n",
    "    lengths = result_df.groupby(\"sseqid\").sum()[\"length\"].values.tolist()\n",
    "    alignment_lengths.append(lengths)\n",
    "\n",
    "    sum_lengths_df = result_df.groupby(\"sseqid\").sum()\n",
    "    percentages = []\n",
    "    for i in range(0, len(sum_lengths_df)):\n",
    "        for record in SeqIO.parse(library, \"fasta\"):\n",
    "            if record.id == sum_lengths_df.index[i]:\n",
    "                protein_len = len(record.seq)\n",
    "                percentages.append(sum_lengths_df.loc[record.id, \"length\"] / protein_len)\n",
    "    alignment_percentages.append(percentages)   "
   ]
  },
  {
   "cell_type": "code",
   "execution_count": 15,
   "id": "be480dc2",
   "metadata": {},
   "outputs": [],
   "source": [
    "all_bitscores_df = []\n",
    "\n",
    "for index, lst in enumerate(all_bitscores):\n",
    "    for item in lst:\n",
    "        all_bitscores_df.append([index, item])\n",
    "\n",
    "all_bitscores_df = pd.DataFrame(all_bitscores_df, columns=[\"Gene\", \"All bitscores\"])"
   ]
  },
  {
   "cell_type": "code",
   "execution_count": 16,
   "id": "c1ff6f40",
   "metadata": {},
   "outputs": [],
   "source": [
    "# get metrics bitscores per gene\n",
    "metrics_per_gene = []\n",
    "\n",
    "for index, lst in enumerate(highest_bitscores):\n",
    "    for item in lst:\n",
    "        metrics_per_gene.append([index, item])\n",
    "\n",
    "metrics_per_gene_df = pd.DataFrame(metrics_per_gene, columns=[\"Gene\", \"Highest bitscores\"])\n",
    "\n",
    "metrics_per_gene_df[\"Highest bitscores\"] = list(np.concatenate(highest_bitscores).flat)\n",
    "metrics_per_gene_df[\"Alignment lengths\"] = list(np.concatenate(alignment_lengths).flat)\n",
    "metrics_per_gene_df[\"Alignment percentages\"] = list(np.concatenate(alignment_percentages).flat)\n",
    "\n",
    "# add library coverage column to metrics dataframe\n",
    "\n",
    "library_coverages = genes_df.loc[genes_df[\"library_coverage\"].notna(), \"library_coverage\"].values.tolist()\n",
    "\n",
    "for i in range(0, metrics_per_gene_df[\"Gene\"].nunique()):\n",
    "    metrics_per_gene_df.loc[metrics_per_gene_df[\"Gene\"] == i, \"Library coverages\"] = library_coverages[i]"
   ]
  },
  {
   "cell_type": "code",
   "execution_count": 38,
   "id": "df358162",
   "metadata": {},
   "outputs": [],
   "source": [
    "def scatterplot_per_gene(df: pd.DataFrame, x_axis: str, y_axis: str, x_axis_label: str, y_axis_label: str, title: str, gene_names: list, color: str, alpha = 0.4):\n",
    "    plt.figure(figsize=(15, 5))\n",
    "    fig = plt.scatter(data=df, x=x_axis, y=y_axis, s=300, color=color, alpha=alpha)\n",
    "    plt.title(title, fontsize=15)\n",
    "    plt.xlabel(x_axis_label, fontsize=15)\n",
    "    plt.ylabel(y_axis_label, fontsize=15)\n",
    "    # plt.xticks(df[\"Gene\"].unique().tolist(), rotation=90, labels=gene_names)\n",
    "    plt.rc(\"xtick\", labelsize=15)\n",
    "    plt.rc(\"ytick\", labelsize=15) \n",
    "    plt.show()"
   ]
  },
  {
   "cell_type": "code",
   "execution_count": 39,
   "id": "1dfe1482",
   "metadata": {},
   "outputs": [],
   "source": [
    "gene_labels = [\"PAMR1\", \"ALDH1L2\"] # todo"
   ]
  },
  {
   "cell_type": "code",
   "execution_count": 44,
   "id": "e10a2546",
   "metadata": {},
   "outputs": [
    {
     "data": {
      "image/png": "[encoded data removed]",
      "text/plain": [
       "<Figure size 1080x360 with 1 Axes>"
      ]
     },
     "metadata": {
      "needs_background": "light"
     },
     "output_type": "display_data"
    }
   ],
   "source": [
    "scatterplot_per_gene(metrics_per_gene_df, \"Highest bitscores\", \"Alignment percentages\", \"Best hits bitscores\", \"Ortholog length aligned\", \"Alignment of hidden gene region to library of orthologs\", gene_labels, \"orangered\")"
   ]
  },
  {
   "cell_type": "code",
   "execution_count": 29,
   "id": "ad4ee3c5",
   "metadata": {},
   "outputs": [
    {
     "data": {
      "image/png": "[encoded data removed]",
      "text/plain": [
       "<Figure size 1080x360 with 1 Axes>"
      ]
     },
     "metadata": {
      "needs_background": "light"
     },
     "output_type": "display_data"
    }
   ],
   "source": [
    "scatterplot_per_gene(all_bitscores_df, \"Gene\", \"All bitscores\", \"Hidden genes\", \"Bitscores\", \"Hit bitscores\", gene_labels, \"yellowgreen\")"
   ]
  },
  {
   "cell_type": "code",
   "execution_count": 30,
   "id": "929976a9",
   "metadata": {},
   "outputs": [
    {
     "data": {
      "image/png": "[encoded data removed]",
      "text/plain": [
       "<Figure size 1080x360 with 1 Axes>"
      ]
     },
     "metadata": {
      "needs_background": "light"
     },
     "output_type": "display_data"
    }
   ],
   "source": [
    "scatterplot_per_gene(metrics_per_gene_df, \"Gene\", \"Highest bitscores\", \"Hidden genes\", \"Bitscore\", \"Best hit bitscores\", gene_labels, \"mediumvioletred\")"
   ]
  },
  {
   "cell_type": "code",
   "execution_count": 31,
   "id": "5eeb2691",
   "metadata": {},
   "outputs": [
    {
     "data": {
      "image/png": "[encoded data removed]",
      "text/plain": [
       "<Figure size 1080x360 with 1 Axes>"
      ]
     },
     "metadata": {
      "needs_background": "light"
     },
     "output_type": "display_data"
    }
   ],
   "source": [
    "scatterplot_per_gene(metrics_per_gene_df, \"Gene\", \"Alignment percentages\", \"Hidden genes\", \"Length fraction\", \"Length of each ortholog aligned\", gene_labels, \"teal\")"
   ]
  },
  {
   "cell_type": "code",
   "execution_count": 32,
   "id": "0d5af51f",
   "metadata": {},
   "outputs": [
    {
     "data": {
      "image/png": "[encoded data removed]",
      "text/plain": [
       "<Figure size 1080x360 with 1 Axes>"
      ]
     },
     "metadata": {
      "needs_background": "light"
     },
     "output_type": "display_data"
    }
   ],
   "source": [
    "scatterplot_per_gene(metrics_per_gene_df, \"Gene\", \"Library coverages\", \"Hidden genes\", \"% database size\", \"Percentage of ortholog library with at least one hit\", gene_labels, \"gold\")"
   ]
  },
  {
   "cell_type": "code",
   "execution_count": 7,
   "id": "38368e92",
   "metadata": {},
   "outputs": [
    {
     "data": {
      "text/html": [
       "<div>\n",
       "<style scoped>\n",
       "    .dataframe tbody tr th:only-of-type {\n",
       "        vertical-align: middle;\n",
       "    }\n",
       "\n",
       "    .dataframe tbody tr th {\n",
       "        vertical-align: top;\n",
       "    }\n",
       "\n",
       "    .dataframe thead th {\n",
       "        text-align: right;\n",
       "    }\n",
       "</style>\n",
       "<table border=\"1\" class=\"dataframe\">\n",
       "  <thead>\n",
       "    <tr style=\"text-align: right;\">\n",
       "      <th></th>\n",
       "      <th>organism_target</th>\n",
       "      <th>organism_with_ortholog</th>\n",
       "      <th>ortholog_ensembl_id</th>\n",
       "      <th>left_neighbor_target</th>\n",
       "      <th>right_neighbor_target</th>\n",
       "      <th>left_neighbor_scaffold_id_target</th>\n",
       "      <th>right_neighbor_scaffold_id_target</th>\n",
       "      <th>nt_seq_target</th>\n",
       "      <th>protein_blast_db</th>\n",
       "      <th>blastx_results</th>\n",
       "    </tr>\n",
       "  </thead>\n",
       "  <tbody>\n",
       "    <tr>\n",
       "      <th>0</th>\n",
       "      <td>anolis_carolinensis</td>\n",
       "      <td>homo_sapiens</td>\n",
       "      <td>ENSG00000149090</td>\n",
       "      <td>ENSACAG00000004365</td>\n",
       "      <td>ENSACAG00000005180</td>\n",
       "      <td>1</td>\n",
       "      <td>1</td>\n",
       "      <td>TTACAGTTCCCTGACACAAACTGAGTTGATCAGAGTCTCACTTTGC...</td>\n",
       "      <td>anolis_carolinensis_ENSG00000149090.fasta</td>\n",
       "      <td>anolis_carolinensis_ENSG00000149090.out</td>\n",
       "    </tr>\n",
       "    <tr>\n",
       "      <th>1</th>\n",
       "      <td>pelodiscus_sinensis</td>\n",
       "      <td>homo_sapiens</td>\n",
       "      <td>ENSG00000136010</td>\n",
       "      <td>ENSPSIG00000016866</td>\n",
       "      <td>ENSPSIG00000016709</td>\n",
       "      <td>JH224648.1</td>\n",
       "      <td>JH224648.1</td>\n",
       "      <td>CAGCAATACTATTTCACAACAGGATCTGCAGGTGCAATACTGGAGA...</td>\n",
       "      <td>pelodiscus_sinensis_ENSG00000136010.fasta</td>\n",
       "      <td>pelodiscus_sinensis_ENSG00000136010.out</td>\n",
       "    </tr>\n",
       "  </tbody>\n",
       "</table>\n",
       "</div>"
      ],
      "text/plain": [
       "       organism_target organism_with_ortholog ortholog_ensembl_id  \\\n",
       "0  anolis_carolinensis           homo_sapiens     ENSG00000149090   \n",
       "1  pelodiscus_sinensis           homo_sapiens     ENSG00000136010   \n",
       "\n",
       "  left_neighbor_target right_neighbor_target left_neighbor_scaffold_id_target  \\\n",
       "0   ENSACAG00000004365    ENSACAG00000005180                                1   \n",
       "1   ENSPSIG00000016866    ENSPSIG00000016709                       JH224648.1   \n",
       "\n",
       "  right_neighbor_scaffold_id_target  \\\n",
       "0                                 1   \n",
       "1                        JH224648.1   \n",
       "\n",
       "                                       nt_seq_target  \\\n",
       "0  TTACAGTTCCCTGACACAAACTGAGTTGATCAGAGTCTCACTTTGC...   \n",
       "1  CAGCAATACTATTTCACAACAGGATCTGCAGGTGCAATACTGGAGA...   \n",
       "\n",
       "                            protein_blast_db  \\\n",
       "0  anolis_carolinensis_ENSG00000149090.fasta   \n",
       "1  pelodiscus_sinensis_ENSG00000136010.fasta   \n",
       "\n",
       "                            blastx_results  \n",
       "0  anolis_carolinensis_ENSG00000149090.out  \n",
       "1  pelodiscus_sinensis_ENSG00000136010.out  "
      ]
     },
     "execution_count": 7,
     "metadata": {},
     "output_type": "execute_result"
    }
   ],
   "source": [
    "# found genes dataframe\n",
    "found_genes = genes_df.loc[genes_df[\"blastx_results\"].notna()].reset_index(drop=True)\n",
    "found_genes"
   ]
  },
  {
   "cell_type": "code",
   "execution_count": 63,
   "id": "eca7e962",
   "metadata": {},
   "outputs": [
    {
     "name": "stdout",
     "output_type": "stream",
     "text": [
      "fragment coordinates: 791683, 792216\n",
      "scaffold coordinates: 54651539, 54652072\n",
      "\n",
      "fragment coordinates: 91157, 91393\n",
      "scaffold coordinates: 4043658, 4043894\n",
      "\n"
     ]
    }
   ],
   "source": [
    "# check if there is any annotated gene in the target sequence area\n",
    "def get_best_hit_region_coordinates(df):\n",
    "    for result in df[\"blastx_results\"]:\n",
    "        result_df = pd.read_csv(result, sep=\"\\t\", header=None, names=outfmt_header)\n",
    "        most_frequent_hit_start = result_df.groupby(\"sseqid\").nth(0)[\"qstart\"].mode().values[0]\n",
    "        most_frequent_hit_end = result_df.groupby(\"sseqid\").nth(0)[\"qend\"].mode().values[0]\n",
    "        print(f\"fragment coordinates: {most_frequent_hit_start}, {most_frequent_hit_end}\")\n",
    "        region_start_coordinate = int(result_df.loc[0, \"qseqid\"].split(\":\")[3])\n",
    "        hit_region_start = region_start_coordinate + most_frequent_hit_start\n",
    "        hit_region_end = region_start_coordinate + most_frequent_hit_end\n",
    "        print(f\"scaffold coordinates: {hit_region_start}, {hit_region_end}\\n\")\n",
    "             \n",
    "get_best_hit_region_coordinates(found_genes) # feed the coordinates to Ensembl Biomart"
   ]
  },
  {
   "cell_type": "code",
   "execution_count": 336,
   "id": "80080048",
   "metadata": {},
   "outputs": [],
   "source": [
    "# genes in the region of the most common hit\n",
    "# 0 ENSACAG00000041619\n",
    "# 1 ENSPSIG00000016855"
   ]
  },
  {
   "cell_type": "code",
   "execution_count": 8,
   "id": "666caaeb",
   "metadata": {},
   "outputs": [
    {
     "name": "stderr",
     "output_type": "stream",
     "text": [
      "Fri Mar 31 20:53:36 2023 INFO Checking if PDB IDs are available...\n"
     ]
    },
    {
     "name": "stdout",
     "output_type": "stream",
     "text": [
      "Homo sapiens\n"
     ]
    },
    {
     "name": "stderr",
     "output_type": "stream",
     "text": [
      "Fri Mar 31 20:53:48 2023 INFO Checking if PDB IDs are available...\n"
     ]
    },
    {
     "name": "stdout",
     "output_type": "stream",
     "text": [
      "Rattus norvegicus\n"
     ]
    },
    {
     "name": "stderr",
     "output_type": "stream",
     "text": [
      "Fri Mar 31 20:53:58 2023 INFO Checking if PDB IDs are available...\n"
     ]
    },
    {
     "name": "stdout",
     "output_type": "stream",
     "text": [
      "Cavia porcellus\n"
     ]
    },
    {
     "name": "stderr",
     "output_type": "stream",
     "text": [
      "Fri Mar 31 20:54:09 2023 INFO Checking if PDB IDs are available...\n"
     ]
    },
    {
     "name": "stdout",
     "output_type": "stream",
     "text": [
      "Monodelphis domestica\n"
     ]
    },
    {
     "name": "stderr",
     "output_type": "stream",
     "text": [
      "Fri Mar 31 20:54:19 2023 INFO Checking if PDB IDs are available...\n"
     ]
    },
    {
     "name": "stdout",
     "output_type": "stream",
     "text": [
      "Anolis carolinensis\n"
     ]
    },
    {
     "name": "stderr",
     "output_type": "stream",
     "text": [
      "Fri Mar 31 20:54:29 2023 INFO Checking if PDB IDs are available...\n"
     ]
    },
    {
     "name": "stdout",
     "output_type": "stream",
     "text": [
      "Otolemur garnettii\n"
     ]
    },
    {
     "name": "stderr",
     "output_type": "stream",
     "text": [
      "Fri Mar 31 20:54:38 2023 INFO Checking if PDB IDs are available...\n"
     ]
    },
    {
     "name": "stdout",
     "output_type": "stream",
     "text": [
      "Chinchilla lanigera\n",
      "Ictidomys tridecemlineatus\n"
     ]
    },
    {
     "name": "stderr",
     "output_type": "stream",
     "text": [
      "Fri Mar 31 20:54:54 2023 INFO Checking if PDB IDs are available...\n"
     ]
    },
    {
     "name": "stdout",
     "output_type": "stream",
     "text": [
      "Jaculus jaculus\n"
     ]
    },
    {
     "name": "stderr",
     "output_type": "stream",
     "text": [
      "Fri Mar 31 20:55:03 2023 INFO Checking if PDB IDs are available...\n"
     ]
    },
    {
     "name": "stdout",
     "output_type": "stream",
     "text": [
      "Myotis lucifugus\n"
     ]
    },
    {
     "name": "stderr",
     "output_type": "stream",
     "text": [
      "Fri Mar 31 20:55:12 2023 INFO Checking if PDB IDs are available...\n"
     ]
    },
    {
     "name": "stdout",
     "output_type": "stream",
     "text": [
      "Taeniopygia guttata\n"
     ]
    },
    {
     "name": "stderr",
     "output_type": "stream",
     "text": [
      "Fri Mar 31 20:55:22 2023 INFO Checking if PDB IDs are available...\n"
     ]
    },
    {
     "name": "stdout",
     "output_type": "stream",
     "text": [
      "Ficedula albicollis\n"
     ]
    },
    {
     "name": "stderr",
     "output_type": "stream",
     "text": [
      "Fri Mar 31 20:55:30 2023 INFO Checking if PDB IDs are available...\n"
     ]
    },
    {
     "name": "stdout",
     "output_type": "stream",
     "text": [
      "Chlorocebus sabaeus\n"
     ]
    },
    {
     "name": "stderr",
     "output_type": "stream",
     "text": [
      "Fri Mar 31 20:55:37 2023 INFO Checking if PDB IDs are available...\n"
     ]
    },
    {
     "name": "stdout",
     "output_type": "stream",
     "text": [
      "Nomascus leucogenys\n"
     ]
    },
    {
     "name": "stderr",
     "output_type": "stream",
     "text": [
      "Fri Mar 31 20:55:46 2023 INFO Checking if PDB IDs are available...\n"
     ]
    },
    {
     "name": "stdout",
     "output_type": "stream",
     "text": [
      "Latimeria chalumnae\n"
     ]
    },
    {
     "name": "stderr",
     "output_type": "stream",
     "text": [
      "Fri Mar 31 20:55:55 2023 INFO Checking if PDB IDs are available...\n"
     ]
    },
    {
     "name": "stdout",
     "output_type": "stream",
     "text": [
      "Gadus morhua\n"
     ]
    },
    {
     "name": "stderr",
     "output_type": "stream",
     "text": [
      "Fri Mar 31 20:56:05 2023 INFO Checking if PDB IDs are available...\n"
     ]
    },
    {
     "name": "stdout",
     "output_type": "stream",
     "text": [
      "Oryzias latipes\n"
     ]
    },
    {
     "name": "stderr",
     "output_type": "stream",
     "text": [
      "Fri Mar 31 20:56:14 2023 INFO Checking if PDB IDs are available...\n"
     ]
    },
    {
     "name": "stdout",
     "output_type": "stream",
     "text": [
      "Oreochromis niloticus\n"
     ]
    },
    {
     "name": "stderr",
     "output_type": "stream",
     "text": [
      "Fri Mar 31 20:56:24 2023 INFO Checking if PDB IDs are available...\n"
     ]
    },
    {
     "name": "stdout",
     "output_type": "stream",
     "text": [
      "Xenopus tropicalis\n"
     ]
    },
    {
     "name": "stderr",
     "output_type": "stream",
     "text": [
      "Fri Mar 31 20:56:35 2023 INFO Checking if PDB IDs are available...\n"
     ]
    },
    {
     "name": "stdout",
     "output_type": "stream",
     "text": [
      "Chrysemys picta bellii\n"
     ]
    },
    {
     "name": "stderr",
     "output_type": "stream",
     "text": [
      "Fri Mar 31 20:56:45 2023 INFO Checking if PDB IDs are available...\n"
     ]
    },
    {
     "name": "stdout",
     "output_type": "stream",
     "text": [
      "Gallus gallus\n"
     ]
    },
    {
     "name": "stderr",
     "output_type": "stream",
     "text": [
      "Fri Mar 31 20:56:57 2023 INFO Checking if PDB IDs are available...\n"
     ]
    },
    {
     "name": "stdout",
     "output_type": "stream",
     "text": [
      "Meleagris gallopavo\n"
     ]
    },
    {
     "name": "stderr",
     "output_type": "stream",
     "text": [
      "Fri Mar 31 20:57:06 2023 INFO Checking if PDB IDs are available...\n"
     ]
    },
    {
     "name": "stdout",
     "output_type": "stream",
     "text": [
      "Ornithorhynchus anatinus\n"
     ]
    },
    {
     "name": "stderr",
     "output_type": "stream",
     "text": [
      "Fri Mar 31 20:57:17 2023 INFO Checking if PDB IDs are available...\n"
     ]
    },
    {
     "name": "stdout",
     "output_type": "stream",
     "text": [
      "Sarcophilus harrisii\n"
     ]
    },
    {
     "name": "stderr",
     "output_type": "stream",
     "text": [
      "Fri Mar 31 20:57:27 2023 INFO Checking if PDB IDs are available...\n"
     ]
    },
    {
     "name": "stdout",
     "output_type": "stream",
     "text": [
      "Callithrix jacchus\n"
     ]
    },
    {
     "name": "stderr",
     "output_type": "stream",
     "text": [
      "Fri Mar 31 20:57:35 2023 INFO Checking if PDB IDs are available...\n"
     ]
    },
    {
     "name": "stdout",
     "output_type": "stream",
     "text": [
      "Macaca fascicularis\n"
     ]
    },
    {
     "name": "stderr",
     "output_type": "stream",
     "text": [
      "Fri Mar 31 20:57:47 2023 INFO Checking if PDB IDs are available...\n"
     ]
    },
    {
     "name": "stdout",
     "output_type": "stream",
     "text": [
      "Macaca mulatta\n"
     ]
    },
    {
     "name": "stderr",
     "output_type": "stream",
     "text": [
      "Fri Mar 31 20:57:56 2023 INFO Checking if PDB IDs are available...\n"
     ]
    },
    {
     "name": "stdout",
     "output_type": "stream",
     "text": [
      "Gorilla gorilla\n",
      "Pan troglodytes\n"
     ]
    },
    {
     "name": "stderr",
     "output_type": "stream",
     "text": [
      "Fri Mar 31 20:58:13 2023 INFO Checking if PDB IDs are available...\n"
     ]
    },
    {
     "name": "stdout",
     "output_type": "stream",
     "text": [
      "Pongo abelii\n"
     ]
    },
    {
     "name": "stderr",
     "output_type": "stream",
     "text": [
      "Fri Mar 31 20:58:23 2023 INFO Checking if PDB IDs are available...\n"
     ]
    },
    {
     "name": "stdout",
     "output_type": "stream",
     "text": [
      "Canis lupus familiaris\n"
     ]
    },
    {
     "name": "stderr",
     "output_type": "stream",
     "text": [
      "Fri Mar 31 20:58:33 2023 INFO Checking if PDB IDs are available...\n"
     ]
    },
    {
     "name": "stdout",
     "output_type": "stream",
     "text": [
      "Ailuropoda melanoleuca\n"
     ]
    },
    {
     "name": "stderr",
     "output_type": "stream",
     "text": [
      "Fri Mar 31 20:58:42 2023 INFO Checking if PDB IDs are available...\n"
     ]
    },
    {
     "name": "stdout",
     "output_type": "stream",
     "text": [
      "Mustela putorius furo\n"
     ]
    },
    {
     "name": "stderr",
     "output_type": "stream",
     "text": [
      "Fri Mar 31 20:58:52 2023 INFO Checking if PDB IDs are available...\n"
     ]
    },
    {
     "name": "stdout",
     "output_type": "stream",
     "text": [
      "Felis catus\n"
     ]
    },
    {
     "name": "stderr",
     "output_type": "stream",
     "text": [
      "Fri Mar 31 20:59:00 2023 INFO Checking if PDB IDs are available...\n"
     ]
    },
    {
     "name": "stdout",
     "output_type": "stream",
     "text": [
      "Loxodonta africana\n"
     ]
    },
    {
     "name": "stderr",
     "output_type": "stream",
     "text": [
      "Fri Mar 31 20:59:15 2023 INFO Checking if PDB IDs are available...\n"
     ]
    },
    {
     "name": "stdout",
     "output_type": "stream",
     "text": [
      "Equus caballus\n"
     ]
    },
    {
     "name": "stderr",
     "output_type": "stream",
     "text": [
      "Fri Mar 31 20:59:24 2023 INFO Checking if PDB IDs are available...\n"
     ]
    },
    {
     "name": "stdout",
     "output_type": "stream",
     "text": [
      "Bos taurus\n"
     ]
    },
    {
     "name": "stderr",
     "output_type": "stream",
     "text": [
      "Fri Mar 31 20:59:36 2023 INFO Checking if PDB IDs are available...\n"
     ]
    },
    {
     "name": "stdout",
     "output_type": "stream",
     "text": [
      "Capra hircus\n"
     ]
    },
    {
     "name": "stderr",
     "output_type": "stream",
     "text": [
      "Fri Mar 31 20:59:44 2023 INFO Checking if PDB IDs are available...\n"
     ]
    },
    {
     "name": "stdout",
     "output_type": "stream",
     "text": [
      "Oryctolagus cuniculus\n",
      "(\n",
      "(\n",
      "(\n",
      "(\n",
      "(\n",
      "(\n",
      "(\n",
      "(\n",
      "(\n",
      "(\n",
      "(\n",
      "Gadus morhua:0.08115,\n",
      "(\n",
      "Oryzias latipes:0.04578,\n",
      "Oreochromis niloticus:0.04493)\n",
      ":0.01177)\n",
      ":0.04513,\n",
      "Xenopus tropicalis:0.06722)\n",
      ":0.00318,\n",
      "Latimeria chalumnae:0.09342)\n",
      ":0.01134,\n",
      "(\n",
      "Anolis carolinensis:0.06913,\n",
      "(\n",
      "(\n",
      "(\n",
      "Ficedula albicollis:0.02903,\n",
      "Taeniopygia guttata:0.02303)\n",
      ":0.00471,\n",
      "(\n",
      "Gallus gallus:0.01086,\n",
      "Meleagris gallopavo:0.01305)\n",
      ":0.02083)\n",
      ":0.03077,\n",
      "(\n",
      "Chrysemys picta bellii:0.01134,\n",
      "ENSPSIG00000016855:0.07561)\n",
      ":0.02886)\n",
      ":0.01096)\n",
      ":0.01672)\n",
      ":0.01371,\n",
      "Ornithorhynchus anatinus:0.04084)\n",
      ":0.00332,\n",
      "(\n",
      "Monodelphis domestica:0.02408,\n",
      "Sarcophilus harrisii:0.01492)\n",
      ":0.02753)\n",
      ":0.02209,\n",
      "(\n",
      "(\n",
      "Cavia porcellus:0.04107,\n",
      "Chinchilla lanigera:0.03261)\n",
      ":0.02971,\n",
      "Rattus norvegicus:0.03313)\n",
      ":0.00221)\n",
      ":0.00348,\n",
      "(\n",
      "Bos taurus:0.00920,\n",
      "Capra hircus:0.01356)\n",
      ":0.01713)\n",
      ":0.00465,\n",
      "(\n",
      "(\n",
      "(\n",
      "Loxodonta africana:0.03217,\n",
      "Ictidomys tridecemlineatus:0.02634)\n",
      ":0.00103,\n",
      "Myotis lucifugus:0.01306)\n",
      ":0.00275,\n",
      "Equus caballus:0.02028)\n",
      ":0.00052)\n",
      ":0.00063,\n",
      "(\n",
      "(\n",
      "Jaculus jaculus:0.03317,\n",
      "Gorilla gorilla:0.02856)\n",
      ":0.00880,\n",
      "(\n",
      "Otolemur garnettii:0.02501,\n",
      "(\n",
      "Callithrix jacchus:0.02497,\n",
      "(\n",
      "(\n",
      "(\n",
      "Macaca fascicularis:0.00984,\n",
      "Chlorocebus sabaeus:-0.00120)\n",
      ":0.00385,\n",
      "Macaca mulatta:0.00257)\n",
      ":0.00216,\n",
      "(\n",
      "(\n",
      "Pongo abelii:0.00656,\n",
      "(\n",
      "Homo sapiens:0.00322,\n",
      "Pan troglodytes:0.00000)\n",
      ":0.00319)\n",
      ":0.00157,\n",
      "Nomascus leucogenys:0.00656)\n",
      ":0.00103)\n",
      ":0.00289)\n",
      ":0.00265)\n",
      ":0.00230)\n",
      ":0.00101)\n",
      ":0.00027,\n",
      "(\n",
      "Felis catus:0.01630,\n",
      "(\n",
      "Canis lupus familiaris:0.01087,\n",
      "(\n",
      "Ailuropoda melanoleuca:0.00724,\n",
      "Mustela putorius furo:0.00901)\n",
      ":0.00214)\n",
      ":0.00510)\n",
      ":0.00526,\n",
      "Oryctolagus cuniculus:0.02060);\n",
      "\n"
     ]
    }
   ],
   "source": [
    "# todo delete after\n",
    "with open(\"aldh1l2_tree.txt\") as tree_file:\n",
    "    content = tree_file.read()\n",
    "    for record in SeqIO.parse(protein_libraries[1], \"fasta\"):\n",
    "        try:\n",
    "            species = gget.info(record.id, verbose=False)[\"species\"].item()\n",
    "            species = species.replace(\"_\", \" \")\n",
    "            species = species.capitalize()\n",
    "            print(species)\n",
    "            content = content.replace(record.id, species)\n",
    "        except TypeError:\n",
    "            continue\n",
    "            \n",
    "    print(content)"
   ]
  },
  {
   "cell_type": "code",
   "execution_count": 69,
   "id": "f89fdb4d",
   "metadata": {},
   "outputs": [
    {
     "name": "stdout",
     "output_type": "stream",
     "text": [
      "\n"
     ]
    }
   ],
   "source": [
    "# PAMR1 ALDH1L2\n",
    "print(content)"
   ]
  },
  {
   "cell_type": "code",
   "execution_count": null,
   "id": "a0f35db0",
   "metadata": {},
   "outputs": [],
   "source": []
  },
  {
   "cell_type": "code",
   "execution_count": null,
   "id": "6f9621f5",
   "metadata": {},
   "outputs": [],
   "source": []
  }
 ],
 "metadata": {
  "kernelspec": {
   "display_name": "Python 3 (ipykernel)",
   "language": "python",
   "name": "python3"
  },
  "language_info": {
   "codemirror_mode": {
    "name": "ipython",
    "version": 3
   },
   "file_extension": ".py",
   "mimetype": "text/x-python",
   "name": "python",
   "nbconvert_exporter": "python",
   "pygments_lexer": "ipython3",
   "version": "3.10.10"
  }
 },
 "nbformat": 4,
 "nbformat_minor": 5
}
