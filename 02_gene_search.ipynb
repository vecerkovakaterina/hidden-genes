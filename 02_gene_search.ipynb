{
 "cells": [
  {
   "cell_type": "markdown",
   "id": "9e91e49e",
   "metadata": {},
   "source": [
    "# Searching for hidden genes"
   ]
  },
  {
   "cell_type": "markdown",
   "id": "288c152c",
   "metadata": {},
   "source": [
    "Homology-based gene search.\n",
    "\n",
    "**Input**: Json with missing genes with the format [organism_with_missing_gene, organism_with_present_ortholog, ortholog_ensembl_id], orthology table, ensembl release, path to directory with downloaded genomes, path to directory for target genomic sequences and path to directory for amino acid sequences of orthologs\n",
    "\n",
    "**Output**: A table with gene search information (orthologs of neighbors, scaffold id and nucleotide sequence, name of BLAST db made from orthologous protein sequences, name of BLAST search result file)."
   ]
  },
  {
   "cell_type": "code",
   "execution_count": 3,
   "id": "e8155f93",
   "metadata": {
    "execution": {
     "iopub.execute_input": "2023-03-14T17:28:18.740678Z",
     "iopub.status.busy": "2023-03-14T17:28:18.740113Z",
     "iopub.status.idle": "2023-03-14T17:28:20.140269Z",
     "shell.execute_reply": "2023-03-14T17:28:20.139438Z"
    }
   },
   "outputs": [],
   "source": [
    "import gget\n",
    "import pandas as pd\n",
    "import numpy as np\n",
    "import requests\n",
    "import json\n",
    "import pathlib\n",
    "import urllib.request\n",
    "from collections import Counter\n",
    "from io import StringIO\n",
    "from Bio import SeqIO"
   ]
  },
  {
   "cell_type": "code",
   "execution_count": 4,
   "id": "d954455b",
   "metadata": {
    "execution": {
     "iopub.execute_input": "2023-03-14T17:28:20.145507Z",
     "iopub.status.busy": "2023-03-14T17:28:20.145002Z",
     "iopub.status.idle": "2023-03-14T17:28:20.148925Z",
     "shell.execute_reply": "2023-03-14T17:28:20.148244Z"
    }
   },
   "outputs": [],
   "source": [
    "ens_api = \"https://rest.ensembl.org\""
   ]
  },
  {
   "cell_type": "code",
   "execution_count": 5,
   "id": "e0215ec6",
   "metadata": {
    "execution": {
     "iopub.execute_input": "2023-03-14T17:28:20.152403Z",
     "iopub.status.busy": "2023-03-14T17:28:20.152022Z",
     "iopub.status.idle": "2023-03-14T17:28:20.155716Z",
     "shell.execute_reply": "2023-03-14T17:28:20.155070Z"
    }
   },
   "outputs": [],
   "source": [
    "# enter desired ensembl release\n",
    "ensembl_release = 109"
   ]
  },
  {
   "cell_type": "code",
   "execution_count": null,
   "id": "a7b9c17a",
   "metadata": {},
   "outputs": [],
   "source": [
    "# enter path to directory with downloaded genomes\n",
    "downloaded_genomes_dir = pathlib.Path(\"genomes/\")"
   ]
  },
  {
   "cell_type": "code",
   "execution_count": null,
   "id": "9602b2e6",
   "metadata": {},
   "outputs": [],
   "source": [
    "# enter path to directory for saving target region genomic sequences\n",
    "target_sequences_directory = pathlib.Path(\"target_sequences/\")"
   ]
  },
  {
   "cell_type": "code",
   "execution_count": null,
   "id": "4207c540",
   "metadata": {},
   "outputs": [],
   "source": [
    "# enter path to directory for saving amino acid sequences of orthologs\n",
    "ortholog_protein_sequences = pathlib.Path(\"ortholog_protein_sequences/\")"
   ]
  },
  {
   "cell_type": "code",
   "execution_count": null,
   "id": "a5e4d24e",
   "metadata": {},
   "outputs": [],
   "source": [
    "# enter filename for gene search results\n",
    "gene_search_result_file = pathlib.Path(\"100_avian_hidden_genes_search_results\")"
   ]
  },
  {
   "cell_type": "code",
   "execution_count": null,
   "id": "3311f6d0",
   "metadata": {},
   "outputs": [],
   "source": [
    "# enter JSON with hidden genes and their ortologs\n",
    "genes_to_search_json_file = pathlib.Path(\"100_avian_hidden_genes\")"
   ]
  },
  {
   "cell_type": "code",
   "execution_count": null,
   "id": "6f421114",
   "metadata": {},
   "outputs": [],
   "source": [
    "# enter path to orthology table\n",
    "orthology_table_file = pathlib.Path(\"/home/vecerkok/orthology_table/orthology_table-68species_ensembl_ids.csv\")"
   ]
  },
  {
   "cell_type": "markdown",
   "id": "120ad2b1",
   "metadata": {},
   "source": [
    "## Identify hidden genes"
   ]
  },
  {
   "cell_type": "code",
   "execution_count": 7,
   "id": "e4bddcee",
   "metadata": {
    "execution": {
     "iopub.execute_input": "2023-03-14T17:28:20.164112Z",
     "iopub.status.busy": "2023-03-14T17:28:20.163580Z",
     "iopub.status.idle": "2023-03-14T17:28:20.168404Z",
     "shell.execute_reply": "2023-03-14T17:28:20.166654Z"
    }
   },
   "outputs": [],
   "source": [
    "def read_input_json(json_file: str):\n",
    "    with open(json_file, \"r\") as f:\n",
    "        data = json.load(f)\n",
    "    return data"
   ]
  },
  {
   "cell_type": "code",
   "execution_count": 8,
   "id": "6aae30d3",
   "metadata": {
    "execution": {
     "iopub.execute_input": "2023-03-14T17:28:20.171413Z",
     "iopub.status.busy": "2023-03-14T17:28:20.171098Z",
     "iopub.status.idle": "2023-03-14T17:28:20.177048Z",
     "shell.execute_reply": "2023-03-14T17:28:20.176386Z"
    }
   },
   "outputs": [],
   "source": [
    "def get_orthology_table(table_file: str):\n",
    "    table_df = pd.read_csv(table_file, low_memory=False, index_col=0)\n",
    "    species_names = table_df.columns\n",
    "    \n",
    "    if file_type == \".csv\":\n",
    "        return pd.read_csv(table_file, sep=\",\", header=0, index_col=0, low_memory=False)\n",
    "    elif file_type == \".tsv\":\n",
    "        return pd.read_csv(table_file, sep=\"\\t\", header=0, index_col=0, low_memory=False)\n",
    "    elif (file_type == \".xsls\") or (file_type == \".xsl\"):\n",
    "        return pd.read_excel(table_file, header=0, index_col=0, low_memory=False)\n",
    "    else:\n",
    "        print(\"Accepted file formats: .csv, .tsv, .xsls, .xsl!\")\n",
    "        return\n",
    "    \n",
    "    # modify species names to gtf filename format\n",
    "    species_names = [x.lower().replace(\" \", \"_\") for x in species_names]\n",
    "\n",
    "    species_names = list(map(lambda x: x.replace(\"heterocephalus_glaber\", \"heterocephalus_glaber_female\"), species_names))\n",
    "    species_names = list(map(lambda x: x.replace(\"gorilla_gorilla_gorilla\", \"gorilla_gorilla\"), species_names))\n",
    "    species_names = list(map(lambda x: x.replace(\"cricetulus_griseus\", \"cricetulus_griseus_chok1gshd\"), species_names))\n",
    "    species_names = list(map(lambda x: x.replace(\"ovis_aries\", \"ovis_aries_rambouillet\"), species_names))\n",
    "    \n",
    "    table_df.columns = species_names\n",
    "    return table_df, species_names"
   ]
  },
  {
   "cell_type": "markdown",
   "id": "51baf7f5",
   "metadata": {},
   "source": [
    "## Identify synteny"
   ]
  },
  {
   "cell_type": "code",
   "execution_count": 9,
   "id": "fd9644a1",
   "metadata": {
    "execution": {
     "iopub.execute_input": "2023-03-14T17:28:20.179906Z",
     "iopub.status.busy": "2023-03-14T17:28:20.179564Z",
     "iopub.status.idle": "2023-03-14T17:28:20.183193Z",
     "shell.execute_reply": "2023-03-14T17:28:20.182542Z"
    }
   },
   "outputs": [],
   "source": [
    "def is_genome_annotation_downloaded(organism_name: str):\n",
    "    organism_genome_annotation = downloaded_genomes_dir / (organism_name + \".gtf\")\n",
    "    return organism_genome_annotation.exists()"
   ]
  },
  {
   "cell_type": "code",
   "execution_count": 10,
   "id": "d395ec07",
   "metadata": {
    "execution": {
     "iopub.execute_input": "2023-03-14T17:28:20.186082Z",
     "iopub.status.busy": "2023-03-14T17:28:20.185553Z",
     "iopub.status.idle": "2023-03-14T17:28:20.190712Z",
     "shell.execute_reply": "2023-03-14T17:28:20.190041Z"
    }
   },
   "outputs": [],
   "source": [
    "def download_genome_annotation(organism_name: str):\n",
    "    # get genome annotation gtf\n",
    "    gtf_ftp = gget.ref(organism_name, which=[\"gtf\"], release=ensembl_release)[organism_name][\"annotation_gtf\"][\"ftp\"]\n",
    "    print(gtf_ftp)\n",
    "    \n",
    "    # download gtf genome nanotation\n",
    "    genome_file = downloaded_genomes_dir / (organism_name + \".gtf.gz\")\n",
    "    urllib.request.urlretrieve(gtf_ftp, genome_file)\n",
    "    \n",
    "    # decompress the genome annotation\n",
    "    !gzip -d $genome_file"
   ]
  },
  {
   "cell_type": "code",
   "execution_count": 11,
   "id": "5f02cf79",
   "metadata": {
    "execution": {
     "iopub.execute_input": "2023-03-14T17:28:20.193580Z",
     "iopub.status.busy": "2023-03-14T17:28:20.193009Z",
     "iopub.status.idle": "2023-03-14T17:28:20.196873Z",
     "shell.execute_reply": "2023-03-14T17:28:20.196212Z"
    }
   },
   "outputs": [],
   "source": [
    "def get_genome_annotation(organism_name: str):\n",
    "    if is_genome_annotation_downloaded(organism_name):\n",
    "        print(\"Genome annotation already downloaded and decompressed!\")\n",
    "        return\n",
    "    else:\n",
    "        print(\"Downloading and then decompressing the genome annotation!\")\n",
    "        download_genome_annotation(organism_name)"
   ]
  },
  {
   "cell_type": "code",
   "execution_count": 12,
   "id": "a791171e",
   "metadata": {
    "execution": {
     "iopub.execute_input": "2023-03-14T17:28:20.199673Z",
     "iopub.status.busy": "2023-03-14T17:28:20.199291Z",
     "iopub.status.idle": "2023-03-14T17:28:20.203441Z",
     "shell.execute_reply": "2023-03-14T17:28:20.202793Z"
    }
   },
   "outputs": [],
   "source": [
    "def gtf_to_bed(organism_name):\n",
    "    # convert gtf to bed format\n",
    "    gtf_file = downloaded_genomes_dir / (organism_name + \".gtf\")\n",
    "    bed_file = downloaded_genomes_dir / (\"sorted_\" + organism_name + \".bed\")\n",
    "    !gtf2bed < $gtf_file > $bed_file"
   ]
  },
  {
   "cell_type": "code",
   "execution_count": 13,
   "id": "46bbe84c",
   "metadata": {
    "execution": {
     "iopub.execute_input": "2023-03-14T17:28:20.206221Z",
     "iopub.status.busy": "2023-03-14T17:28:20.205855Z",
     "iopub.status.idle": "2023-03-14T17:28:20.212222Z",
     "shell.execute_reply": "2023-03-14T17:28:20.211573Z"
    }
   },
   "outputs": [],
   "source": [
    "def find_n_neighbors_in_bed(organism_name: str, ensembl_id, bed_dir, n_neighbors, direction: str):\n",
    "    bed_df = pd.read_csv(downloaded_genomes_dir / (\"sorted_\" + organism_name + \".bed\"), sep=\"\\t\", low_memory=False, usecols=[0, 3], header=None).drop_duplicates(ignore_index=True)\n",
    "    \n",
    "    line_index = bed_df.loc[bed_df[3] == ensembl_id].index[0]\n",
    "    \n",
    "    if direction == \"up\":\n",
    "        if line_index < n_neighbors:\n",
    "            n_neighbors = line_index\n",
    "        \n",
    "        neighbor_indeces = list(range(line_index - n_neighbors, line_index))\n",
    "        return(bed_df.loc[neighbor_indeces, 3].reset_index(drop=True))\n",
    "    \n",
    "    elif direction == \"down\":\n",
    "        if line_index + n_neighbors >= len(bed_df):\n",
    "            n_neighbors = (len(bed_df) - 1) - line_index\n",
    "        \n",
    "        line_index += 1\n",
    "        neighbor_indeces = list(range(line_index, line_index + n_neighbors))\n",
    "        return(bed_df.loc[neighbor_indeces, 3].reset_index(drop=True))\n",
    "    \n",
    "    else:\n",
    "        print(\"Wrong direction!\")\n",
    "        return"
   ]
  },
  {
   "cell_type": "code",
   "execution_count": 14,
   "id": "30a82a34",
   "metadata": {
    "execution": {
     "iopub.execute_input": "2023-03-14T17:28:20.216131Z",
     "iopub.status.busy": "2023-03-14T17:28:20.215522Z",
     "iopub.status.idle": "2023-03-14T17:28:20.222654Z",
     "shell.execute_reply": "2023-03-14T17:28:20.221994Z"
    }
   },
   "outputs": [],
   "source": [
    "def find_synteny_neighbors_left(organism_with_ortholog, ortholog_ensembl_id, orthology_table, no_neighbors, genomes_dir):\n",
    "    gene_row = orthology_table_df.loc[orthology_table_df[organism_with_ortholog] == ortholog_ensembl_id].dropna(axis=1, how=\"all\")\n",
    "    organisms_with_present = gene_row.columns\n",
    "    no_organisms_with_present = len(organisms_with_present)\n",
    "    \n",
    "    left_neighbors = pd.DataFrame(np.empty(shape=(no_neighbors, no_organisms_with_present)), columns = organisms_with_present)\n",
    "    left_neighbors[:] = np.nan\n",
    "    \n",
    "    for organism in organisms_with_present:\n",
    "        left_neighbors[organism] = find_n_neighbors_in_bed(organism, gene_row[organism].values[0], genomes_dir, no_neighbors, \"up\")\n",
    "        \n",
    "    return left_neighbors"
   ]
  },
  {
   "cell_type": "code",
   "execution_count": 15,
   "id": "52bf0bf1",
   "metadata": {
    "execution": {
     "iopub.execute_input": "2023-03-14T17:28:20.226278Z",
     "iopub.status.busy": "2023-03-14T17:28:20.225911Z",
     "iopub.status.idle": "2023-03-14T17:28:20.232959Z",
     "shell.execute_reply": "2023-03-14T17:28:20.232132Z"
    }
   },
   "outputs": [],
   "source": [
    "def find_synteny_neighbors_right(organism_with_ortholog, ortholog_ensembl_id, orthology_table, no_neighbors, genomes_dir):\n",
    "    gene_row = orthology_table_df.loc[orthology_table_df[organism_with_ortholog] == ortholog_ensembl_id].dropna(axis=1, how=\"all\")\n",
    "    organisms_with_present = gene_row.columns\n",
    "    no_organisms_with_present = len(organisms_with_present)\n",
    "    \n",
    "    right_neighbors = pd.DataFrame(np.empty(shape=(no_neighbors, no_organisms_with_present)), columns = organisms_with_present)\n",
    "    right_neighbors[:] = np.nan\n",
    "    \n",
    "    for organism in organisms_with_present:\n",
    "        right_neighbors[organism] = find_n_neighbors_in_bed(organism, gene_row[organism].values[0], genomes_dir, no_neighbors, \"down\")\n",
    "        \n",
    "    return right_neighbors"
   ]
  },
  {
   "cell_type": "code",
   "execution_count": 16,
   "id": "0533b110",
   "metadata": {
    "execution": {
     "iopub.execute_input": "2023-03-14T17:28:20.236601Z",
     "iopub.status.busy": "2023-03-14T17:28:20.236143Z",
     "iopub.status.idle": "2023-03-14T17:28:20.243260Z",
     "shell.execute_reply": "2023-03-14T17:28:20.242461Z"
    }
   },
   "outputs": [],
   "source": [
    "def find_target_neighbor(neighbors_df, orth_df, organism_with_missing):\n",
    "    indeces = list()\n",
    "    for i in range(0, len(neighbors_df)):\n",
    "        for col in neighbors_df.columns:\n",
    "            index = orth_df.index[orth_df[col] == neighbors_df.loc[i, col]]\n",
    "            if len(index) > 0:\n",
    "                indeces.append(index[0])\n",
    "    frequencies = Counter(indeces)\n",
    "    most_common = frequencies.most_common()\n",
    "\n",
    "    for i in most_common:\n",
    "        if not pd.isnull(orth_df.loc[i[0], organism_with_missing]):\n",
    "            return(orth_df.loc[i[0], organism_with_missing])"
   ]
  },
  {
   "cell_type": "markdown",
   "id": "f8cdaaf1",
   "metadata": {},
   "source": [
    "## Identify target nucleotide sequence"
   ]
  },
  {
   "cell_type": "code",
   "execution_count": 17,
   "id": "86f8be86",
   "metadata": {
    "execution": {
     "iopub.execute_input": "2023-03-14T17:28:20.247237Z",
     "iopub.status.busy": "2023-03-14T17:28:20.246526Z",
     "iopub.status.idle": "2023-03-14T17:28:20.251421Z",
     "shell.execute_reply": "2023-03-14T17:28:20.250621Z"
    }
   },
   "outputs": [],
   "source": [
    "def get_orthologs_json(ensembl_id):\n",
    "    ext = f\"/homology/id/{ensembl_id}\"\n",
    "    response = requests.get(ens_api+ext, headers={\"Content-Type\" : \"application/json\"})\n",
    "    response = response.json()\n",
    "    return response"
   ]
  },
  {
   "cell_type": "code",
   "execution_count": 18,
   "id": "3109db97",
   "metadata": {
    "execution": {
     "iopub.execute_input": "2023-03-14T17:28:20.254953Z",
     "iopub.status.busy": "2023-03-14T17:28:20.254488Z",
     "iopub.status.idle": "2023-03-14T17:28:20.260506Z",
     "shell.execute_reply": "2023-03-14T17:28:20.259688Z"
    }
   },
   "outputs": [],
   "source": [
    "def get_neighbor_target_ensembl_id(orthologs, organism_missing):\n",
    "    if len(orthologs[\"data\"]) > 0:\n",
    "        for i in range(0,len(orthologs[\"data\"][0][\"homologies\"])):\n",
    "            if orthologs[\"data\"][0][\"homologies\"][i][\"target\"][\"species\"] == organism_missing:\n",
    "                neighbor_target_ensembl_id = orthologs[\"data\"][0][\"homologies\"][i][\"target\"][\"id\"]\n",
    "                return neighbor_target_ensembl_id"
   ]
  },
  {
   "cell_type": "code",
   "execution_count": 19,
   "id": "d0102ce7",
   "metadata": {
    "execution": {
     "iopub.execute_input": "2023-03-14T17:28:20.264129Z",
     "iopub.status.busy": "2023-03-14T17:28:20.263672Z",
     "iopub.status.idle": "2023-03-14T17:28:20.269018Z",
     "shell.execute_reply": "2023-03-14T17:28:20.268215Z"
    }
   },
   "outputs": [],
   "source": [
    "def get_neighbors_in_target_organism(left_neighbor_ortholog, right_neighbor_ortholog, organism_missing):\n",
    "                \n",
    "    left_neighbor_orthologs = get_orthologs_json(left_neighbor_ortholog)\n",
    "    right_neighbor_orthologs = get_orthologs_json(right_neighbor_ortholog)\n",
    "    \n",
    "    left_neighbor_target_ensembl_id = get_neighbor_target_ensembl_id(left_neighbor_orthologs, organism_missing)\n",
    "    right_neighbor_target_ensembl_id = get_neighbor_target_ensembl_id(right_neighbor_orthologs, organism_missing)\n",
    "\n",
    "    return left_neighbor_target_ensembl_id, right_neighbor_target_ensembl_id"
   ]
  },
  {
   "cell_type": "code",
   "execution_count": 20,
   "id": "fae3fad4",
   "metadata": {
    "execution": {
     "iopub.execute_input": "2023-03-14T17:28:20.272701Z",
     "iopub.status.busy": "2023-03-14T17:28:20.272250Z",
     "iopub.status.idle": "2023-03-14T17:28:20.277431Z",
     "shell.execute_reply": "2023-03-14T17:28:20.276610Z"
    }
   },
   "outputs": [],
   "source": [
    "def get_scaffold_id(neigbour_target_ensembl_id):\n",
    "    ext = f\"/lookup/id/{neigbour_target_ensembl_id}?\"\n",
    "    response = requests.get(ens_api+ext, headers={\"Content-Type\": \"application/json\"})\n",
    "    scaffold = response.json()[\"seq_region_name\"]\n",
    "    \n",
    "    return scaffold"
   ]
  },
  {
   "cell_type": "code",
   "execution_count": 21,
   "id": "a6134166",
   "metadata": {
    "execution": {
     "iopub.execute_input": "2023-03-14T17:28:20.280943Z",
     "iopub.status.busy": "2023-03-14T17:28:20.280369Z",
     "iopub.status.idle": "2023-03-14T17:28:20.285316Z",
     "shell.execute_reply": "2023-03-14T17:28:20.284517Z"
    }
   },
   "outputs": [],
   "source": [
    "# TODO get sequence or reverse complement if start > end\n",
    "def get_coordinates(start, end, scaffold):\n",
    "    if start < end:\n",
    "        coordinates = f\"{scaffold}:{start}..{end}\"\n",
    "    else:\n",
    "        coordinates = f\"{scaffold}:{end}..{start}\"\n",
    "            \n",
    "    return coordinates"
   ]
  },
  {
   "cell_type": "code",
   "execution_count": 22,
   "id": "8eb96e19",
   "metadata": {
    "execution": {
     "iopub.execute_input": "2023-03-14T17:28:20.288665Z",
     "iopub.status.busy": "2023-03-14T17:28:20.288200Z",
     "iopub.status.idle": "2023-03-14T17:28:20.293964Z",
     "shell.execute_reply": "2023-03-14T17:28:20.292909Z"
    }
   },
   "outputs": [],
   "source": [
    "def get_sequence(organism, coordinates):\n",
    "    ext = f\"/sequence/region/{organism}/{coordinates}?\"\n",
    "    response = requests.get(ens_api+ext, headers={\"Content-Type\" : \"text/x-fasta\"})\n",
    "    target_sequence = response.text\n",
    "    \n",
    "    return target_sequence"
   ]
  },
  {
   "cell_type": "code",
   "execution_count": 23,
   "id": "5d19a2f7",
   "metadata": {
    "execution": {
     "iopub.execute_input": "2023-03-14T17:28:20.297470Z",
     "iopub.status.busy": "2023-03-14T17:28:20.296999Z",
     "iopub.status.idle": "2023-03-14T17:28:20.302715Z",
     "shell.execute_reply": "2023-03-14T17:28:20.301684Z"
    }
   },
   "outputs": [],
   "source": [
    "def get_target_nucleotide_fasta(start, end, scaffold, organism):\n",
    "    \n",
    "    # define the region\n",
    "    coordinates = get_coordinates(start, end, scaffold)\n",
    "            \n",
    "    print(f\"Retrieving sequence {coordinates}\")\n",
    "    \n",
    "    # get sequence of target region\n",
    "    target_sequence = get_sequence(organism, coordinates)\n",
    "    \n",
    "    return target_sequence"
   ]
  },
  {
   "cell_type": "code",
   "execution_count": 24,
   "id": "32f3ecc8",
   "metadata": {
    "execution": {
     "iopub.execute_input": "2023-03-14T17:28:20.306232Z",
     "iopub.status.busy": "2023-03-14T17:28:20.305754Z",
     "iopub.status.idle": "2023-03-14T17:28:20.311770Z",
     "shell.execute_reply": "2023-03-14T17:28:20.310726Z"
    }
   },
   "outputs": [],
   "source": [
    "def get_sequence_from_fasta(fasta: str):\n",
    "    fasta_io = StringIO(fasta) \n",
    "\n",
    "    records = SeqIO.parse(fasta_io, \"fasta\")\n",
    "    \n",
    "    for rec in records:\n",
    "        sequence = rec.seq\n",
    "\n",
    "    fasta_io.close()\n",
    "    \n",
    "    return str(sequence)"
   ]
  },
  {
   "cell_type": "markdown",
   "id": "4d31bb74",
   "metadata": {},
   "source": [
    "## Identify ortholog protein sequences"
   ]
  },
  {
   "cell_type": "code",
   "execution_count": 25,
   "id": "8441ffae",
   "metadata": {
    "execution": {
     "iopub.execute_input": "2023-03-14T17:28:20.315596Z",
     "iopub.status.busy": "2023-03-14T17:28:20.315116Z",
     "iopub.status.idle": "2023-03-14T17:28:20.321441Z",
     "shell.execute_reply": "2023-03-14T17:28:20.320386Z"
    }
   },
   "outputs": [],
   "source": [
    "def get_missing_gene_orthologs_ensembl_ids(ortholog_id: str, organism_with_ortholog: str, orth_df: pd.DataFrame):\n",
    "    missing_gene_orthologs_ids = list(orth_df.loc[orth_df[organism_with_ortholog] == ortholog_id, :].values[0])\n",
    "    missing_gene_orthologs_ids = [x for x in missing_gene_orthologs_ids if type(x) == str]\n",
    "\n",
    "    return missing_gene_orthologs_ids"
   ]
  },
  {
   "cell_type": "code",
   "execution_count": 26,
   "id": "6bc33a4b",
   "metadata": {
    "execution": {
     "iopub.execute_input": "2023-03-14T17:28:20.325054Z",
     "iopub.status.busy": "2023-03-14T17:28:20.324688Z",
     "iopub.status.idle": "2023-03-14T17:28:20.331544Z",
     "shell.execute_reply": "2023-03-14T17:28:20.330495Z"
    }
   },
   "outputs": [],
   "source": [
    "def get_list_of_protein_sequences(ensembl_ids):\n",
    "    protein_sequences_fasta = []\n",
    "    \n",
    "    for ens_id in ensembl_ids:\n",
    "        try:\n",
    "            sequence = (gget.seq(ens_id, translate=True))\n",
    "            \n",
    "            if len(sequence) > 0:\n",
    "                protein_sequences_fasta.append(\"\\n\".join(sequence))\n",
    "        except TypeError:\n",
    "            continue\n",
    "            \n",
    "    protein_sequences_fasta = [x for x in protein_sequences_fasta if len(x) > 0]\n",
    "\n",
    "    return protein_sequences_fasta"
   ]
  },
  {
   "cell_type": "code",
   "execution_count": 27,
   "id": "de1bb654",
   "metadata": {
    "execution": {
     "iopub.execute_input": "2023-03-14T17:28:20.335174Z",
     "iopub.status.busy": "2023-03-14T17:28:20.334702Z",
     "iopub.status.idle": "2023-03-14T17:28:20.340308Z",
     "shell.execute_reply": "2023-03-14T17:28:20.339256Z"
    }
   },
   "outputs": [],
   "source": [
    "def save_list_of_sequences_to_fasta(sequences: list, fasta_filename: str):\n",
    "    with open(fasta_filename, \"w\") as file:\n",
    "        for sequence in sequences:\n",
    "            file.write(sequence)\n",
    "            file.write(\"\\n\")"
   ]
  },
  {
   "cell_type": "code",
   "execution_count": 28,
   "id": "036d531f",
   "metadata": {
    "execution": {
     "iopub.execute_input": "2023-03-14T17:28:20.343972Z",
     "iopub.status.busy": "2023-03-14T17:28:20.343488Z",
     "iopub.status.idle": "2023-03-14T17:28:20.348914Z",
     "shell.execute_reply": "2023-03-14T17:28:20.347827Z"
    }
   },
   "outputs": [],
   "source": [
    "def make_protein_blast_db_from_fasta(fasta_filename: str):\n",
    "    !makeblastdb -in $fasta_filename  -parse_seqids -blastdb_version 5 -title $fasta_filename -dbtype prot"
   ]
  },
  {
   "cell_type": "code",
   "execution_count": 29,
   "id": "abbd121c",
   "metadata": {
    "execution": {
     "iopub.execute_input": "2023-03-14T17:28:20.352456Z",
     "iopub.status.busy": "2023-03-14T17:28:20.352086Z",
     "iopub.status.idle": "2023-03-14T17:28:20.358166Z",
     "shell.execute_reply": "2023-03-14T17:28:20.357091Z"
    }
   },
   "outputs": [],
   "source": [
    "def run_blastx(nt_fasta: str, aa_db: str, results_filename: str):\n",
    "    !blastx -db $aa_db -query $nt_fasta -out $results_filename -outfmt 6"
   ]
  },
  {
   "cell_type": "markdown",
   "id": "8aa6a790",
   "metadata": {},
   "source": [
    "# Analysis"
   ]
  },
  {
   "cell_type": "code",
   "execution_count": null,
   "id": "04aa0acd",
   "metadata": {},
   "outputs": [],
   "source": [
    "# load orthology table and list of genes to search\n",
    "orthology_table_df, species_names = get_orthology_table(orthology_table_file)\n",
    "genes_to_search = read_input_json(genes_to_search_json_file)"
   ]
  },
  {
   "cell_type": "code",
   "execution_count": 30,
   "id": "9f1e3872",
   "metadata": {
    "execution": {
     "iopub.execute_input": "2023-03-14T17:28:20.361833Z",
     "iopub.status.busy": "2023-03-14T17:28:20.361338Z",
     "iopub.status.idle": "2023-03-14T17:28:21.255235Z",
     "shell.execute_reply": "2023-03-14T17:28:21.253935Z"
    }
   },
   "outputs": [],
   "source": [
    "# prepare output dataframe\n",
    "gene_search_df = pd.DataFrame(columns=[\"organism_target\", \"organism_with_ortholog\", \"ortholog_ensembl_id\", \"left_neighbor_target\", \"right_neighbor_target\", \"left_neighbor_scaffold_id_target\", \"right_neighbor_scaffold_id_target\", \"nt_seq_target\", \"protein_blast_db\", \"blastx_results\"])"
   ]
  },
  {
   "cell_type": "code",
   "execution_count": 34,
   "id": "c15bd548",
   "metadata": {
    "execution": {
     "iopub.execute_input": "2023-03-14T17:28:21.271214Z",
     "iopub.status.busy": "2023-03-14T17:28:21.270949Z",
     "iopub.status.idle": "2023-03-15T09:14:03.097612Z",
     "shell.execute_reply": "2023-03-15T09:14:03.096715Z"
    }
   },
   "outputs": [
    {
     "name": "stdout",
     "output_type": "stream",
     "text": [
      "Searching for gene ENSG00000166073\n",
      "10\n",
      "10\n",
      "Retrieving sequence 5:28992581..29114441\n"
     ]
    },
    {
     "name": "stderr",
     "output_type": "stream",
     "text": [
      "Wed Mar 15 15:07:33 2023 INFO Requesting amino acid sequence of the canonical transcript ENST00000561100 of gene ENSG00000166073 from UniProt.\n",
      "Wed Mar 15 15:07:39 2023 INFO Requesting amino acid sequence of the canonical transcript ENSCGRT00001017466 of gene ENSCGRG00001014423 from UniProt.\n",
      "Wed Mar 15 15:07:39 2023 WARNING No reviewed UniProt results were found for ID ENSCGRT00001017466. Returning all unreviewed results.\n",
      "Wed Mar 15 15:07:43 2023 INFO Requesting amino acid sequence of the canonical transcript ENSMAUT00000013146 of gene ENSMAUG00000010507 from UniProt.\n",
      "Wed Mar 15 15:07:43 2023 WARNING No UniProt sequences were found for ID ENSMAUT00000013146.\n",
      "Wed Mar 15 15:07:43 2023 ERROR No UniProt amino acid sequences were found for these ID(s).\n",
      "Wed Mar 15 15:07:50 2023 INFO Requesting amino acid sequence of the canonical transcript ENSRNOT00000007882 of gene ENSRNOG00000005971 from UniProt.\n",
      "Wed Mar 15 15:07:56 2023 INFO Requesting amino acid sequence of the canonical transcript ENSCPOT00000047684 of gene ENSCPOG00000039694 from UniProt.\n",
      "Wed Mar 15 15:07:57 2023 WARNING No reviewed UniProt results were found for ID ENSCPOT00000047684. Returning all unreviewed results.\n",
      "Wed Mar 15 15:08:01 2023 INFO Requesting amino acid sequence of the canonical transcript ENSODET00000023635 of gene ENSODEG00000017131 from UniProt.\n",
      "Wed Mar 15 15:08:01 2023 WARNING No UniProt sequences were found for ID ENSODET00000023635.\n",
      "Wed Mar 15 15:08:01 2023 ERROR No UniProt amino acid sequences were found for these ID(s).\n",
      "Wed Mar 15 15:08:07 2023 INFO Requesting amino acid sequence of the canonical transcript ENSHGLT00000022681 of gene ENSHGLG00000016023 from UniProt.\n",
      "Wed Mar 15 15:08:07 2023 WARNING No UniProt sequences were found for ID ENSHGLT00000022681.\n",
      "Wed Mar 15 15:08:07 2023 ERROR No UniProt amino acid sequences were found for these ID(s).\n",
      "Wed Mar 15 15:08:13 2023 INFO Requesting amino acid sequence of the canonical transcript ENSMZET00005004875 of gene ENSMZEG00005003612 from UniProt.\n",
      "Wed Mar 15 15:08:13 2023 WARNING No reviewed UniProt results were found for ID ENSMZET00005004875. Returning all unreviewed results.\n",
      "Wed Mar 15 15:08:18 2023 INFO Requesting amino acid sequence of the canonical transcript ENSPVAT00000002182 of gene ENSPVAG00000002182 from UniProt.\n",
      "Wed Mar 15 15:08:18 2023 WARNING No UniProt sequences were found for ID ENSPVAT00000002182.\n",
      "Wed Mar 15 15:08:18 2023 ERROR No UniProt amino acid sequences were found for these ID(s).\n",
      "Wed Mar 15 15:08:32 2023 INFO Requesting amino acid sequence of the canonical transcript ENSMODT00000000765 of gene ENSMODG00000000629 from UniProt.\n",
      "Wed Mar 15 15:08:32 2023 WARNING No reviewed UniProt results were found for ID ENSMODT00000000765. Returning all unreviewed results.\n",
      "Wed Mar 15 15:08:39 2023 INFO Requesting amino acid sequence of the canonical transcript ENSPSIT00000006905 of gene ENSPSIG00000006339 from UniProt.\n",
      "Wed Mar 15 15:08:40 2023 WARNING No reviewed UniProt results were found for ID ENSPSIT00000006905. Returning all unreviewed results.\n",
      "Wed Mar 15 15:08:46 2023 INFO Requesting amino acid sequence of the canonical transcript ENSACAT00000055909 of gene ENSACAG00000038596 from UniProt.\n",
      "Wed Mar 15 15:08:46 2023 WARNING No reviewed UniProt results were found for ID ENSACAT00000055909. Returning all unreviewed results.\n",
      "Wed Mar 15 15:08:53 2023 INFO Requesting amino acid sequence of the canonical transcript ENSPNYT00000003283 of gene ENSPNYG00000002486 from UniProt.\n",
      "Wed Mar 15 15:08:53 2023 WARNING No reviewed UniProt results were found for ID ENSPNYT00000003283. Returning all unreviewed results.\n",
      "Wed Mar 15 15:08:57 2023 INFO Requesting amino acid sequence of the canonical transcript ENSVPAT00000004369 of gene ENSVPAG00000004369 from UniProt.\n",
      "Wed Mar 15 15:08:57 2023 WARNING No UniProt sequences were found for ID ENSVPAT00000004369.\n",
      "Wed Mar 15 15:08:57 2023 ERROR No UniProt amino acid sequences were found for these ID(s).\n",
      "Wed Mar 15 15:09:02 2023 INFO Requesting amino acid sequence of the canonical transcript ENSOGAT00000008865 of gene ENSOGAG00000008863 from UniProt.\n",
      "Wed Mar 15 15:09:02 2023 WARNING No reviewed UniProt results were found for ID ENSOGAT00000008865. Returning all unreviewed results.\n",
      "Wed Mar 15 15:09:10 2023 INFO Requesting amino acid sequence of the canonical transcript ENSTRUT00000046546 of gene ENSTRUG00000018121 from UniProt.\n",
      "Wed Mar 15 15:09:11 2023 WARNING No reviewed UniProt results were found for ID ENSTRUT00000046546. Returning all unreviewed results.\n",
      "Wed Mar 15 15:09:18 2023 INFO Requesting amino acid sequence of the canonical transcript ENSNBRT00000001713 of gene ENSNBRG00000001333 from UniProt.\n",
      "Wed Mar 15 15:09:18 2023 WARNING No reviewed UniProt results were found for ID ENSNBRT00000001713. Returning all unreviewed results.\n",
      "Wed Mar 15 15:09:24 2023 INFO Requesting amino acid sequence of the canonical transcript ENSCLAT00000013276 of gene ENSCLAG00000009059 from UniProt.\n",
      "Wed Mar 15 15:09:24 2023 WARNING No reviewed UniProt results were found for ID ENSCLAT00000013276. Returning all unreviewed results.\n",
      "Wed Mar 15 15:09:27 2023 INFO Requesting amino acid sequence of the canonical transcript ENSSART00000011366 of gene ENSSARG00000011371 from UniProt.\n",
      "Wed Mar 15 15:09:27 2023 WARNING No UniProt sequences were found for ID ENSSART00000011366.\n",
      "Wed Mar 15 15:09:27 2023 ERROR No UniProt amino acid sequences were found for these ID(s).\n",
      "Wed Mar 15 15:09:35 2023 INFO Requesting amino acid sequence of the canonical transcript ENSSTOT00000015602 of gene ENSSTOG00000015606 from UniProt.\n",
      "Wed Mar 15 15:09:35 2023 WARNING No reviewed UniProt results were found for ID ENSSTOT00000015602. Returning all unreviewed results.\n",
      "Wed Mar 15 15:09:40 2023 INFO Requesting amino acid sequence of the canonical transcript ENSGFOT00000009169 of gene ENSGFOG00000006220 from UniProt.\n",
      "Wed Mar 15 15:09:42 2023 WARNING No UniProt sequences were found for ID ENSGFOT00000009169.\n",
      "Wed Mar 15 15:09:42 2023 ERROR No UniProt amino acid sequences were found for these ID(s).\n",
      "Wed Mar 15 15:09:51 2023 INFO Requesting amino acid sequence of the canonical transcript ENSJJAT00000029186 of gene ENSJJAG00000022630 from UniProt.\n",
      "Wed Mar 15 15:09:51 2023 WARNING No reviewed UniProt results were found for ID ENSJJAT00000029186. Returning all unreviewed results.\n",
      "Wed Mar 15 15:09:55 2023 INFO Requesting amino acid sequence of the canonical transcript ENSMLUT00000004571 of gene ENSMLUG00000004576 from UniProt.\n",
      "Wed Mar 15 15:09:55 2023 WARNING No reviewed UniProt results were found for ID ENSMLUT00000004571. Returning all unreviewed results.\n",
      "Wed Mar 15 15:10:03 2023 INFO Requesting amino acid sequence of the canonical transcript ENSTGUT00000012103 of gene ENSTGUG00000011618 from UniProt.\n",
      "Wed Mar 15 15:10:04 2023 WARNING No reviewed UniProt results were found for ID ENSTGUT00000012103. Returning all unreviewed results.\n",
      "Wed Mar 15 15:10:11 2023 INFO Requesting amino acid sequence of the canonical transcript ENSFALT00000005626 of gene ENSFALG00000005376 from UniProt.\n",
      "Wed Mar 15 15:10:13 2023 WARNING No reviewed UniProt results were found for ID ENSFALT00000005626. Returning all unreviewed results.\n",
      "Wed Mar 15 15:10:16 2023 INFO Requesting amino acid sequence of the canonical transcript ENSCSAT00000005317 of gene ENSCSAG00000007272 from UniProt.\n",
      "Wed Mar 15 15:10:16 2023 WARNING No reviewed UniProt results were found for ID ENSCSAT00000005317. Returning all unreviewed results.\n",
      "Wed Mar 15 15:10:26 2023 INFO Requesting amino acid sequence of the canonical transcript ENSNLET00000002782 of gene ENSNLEG00000002189 from UniProt.\n",
      "Wed Mar 15 15:10:26 2023 WARNING No reviewed UniProt results were found for ID ENSNLET00000002782. Returning all unreviewed results.\n",
      "Wed Mar 15 15:10:32 2023 INFO Requesting amino acid sequence of the canonical transcript ENSGACT00000010465 of gene ENSGACG00000007876 from UniProt.\n",
      "Wed Mar 15 15:10:32 2023 WARNING No reviewed UniProt results were found for ID ENSGACT00000010465. Returning all unreviewed results.\n",
      "Wed Mar 15 15:10:37 2023 INFO Requesting amino acid sequence of the canonical transcript ENSPMAT00000008462 of gene ENSPMAG00000007662 from UniProt.\n",
      "Wed Mar 15 15:10:37 2023 WARNING No reviewed UniProt results were found for ID ENSPMAT00000008462. Returning all unreviewed results.\n"
     ]
    },
    {
     "name": "stderr",
     "output_type": "stream",
     "text": [
      "Wed Mar 15 15:10:42 2023 INFO Requesting amino acid sequence of the canonical transcript ENSLACT00000021192 of gene ENSLACG00000018495 from UniProt.\n",
      "Wed Mar 15 15:10:43 2023 WARNING No reviewed UniProt results were found for ID ENSLACT00000021192. Returning all unreviewed results.\n",
      "Wed Mar 15 15:10:50 2023 INFO Requesting amino acid sequence of the canonical transcript ENSLOCT00000015364 of gene ENSLOCG00000012456 from UniProt.\n",
      "Wed Mar 15 15:10:51 2023 WARNING No reviewed UniProt results were found for ID ENSLOCT00000015364. Returning all unreviewed results.\n",
      "Wed Mar 15 15:10:55 2023 INFO Requesting amino acid sequence of the canonical transcript ENSDART00000147917 of gene ENSDARG00000042515 from UniProt.\n",
      "Wed Mar 15 15:10:56 2023 WARNING No UniProt sequences were found for ID ENSDART00000147917.\n",
      "Wed Mar 15 15:10:56 2023 ERROR No UniProt amino acid sequences were found for these ID(s).\n",
      "Wed Mar 15 15:11:01 2023 INFO Requesting amino acid sequence of the canonical transcript ENSMOCT00000029871 of gene ENSMOCG00000021940 from UniProt.\n",
      "Wed Mar 15 15:11:01 2023 WARNING No UniProt sequences were found for ID ENSMOCT00000029871.\n",
      "Wed Mar 15 15:11:01 2023 ERROR No UniProt amino acid sequences were found for these ID(s).\n",
      "Wed Mar 15 15:11:06 2023 INFO Requesting amino acid sequence of the canonical transcript ENSAMXT00000012278 of gene ENSAMXG00000011944 from UniProt.\n",
      "Wed Mar 15 15:11:07 2023 WARNING No reviewed UniProt results were found for ID ENSAMXT00000012278. Returning all unreviewed results.\n",
      "Wed Mar 15 15:11:14 2023 INFO Requesting amino acid sequence of the canonical transcript ENSGMOT00000071401 of gene ENSGMOG00000024130 from UniProt.\n",
      "Wed Mar 15 15:11:14 2023 WARNING No reviewed UniProt results were found for ID ENSGMOT00000071401. Returning all unreviewed results.\n",
      "Wed Mar 15 15:11:22 2023 INFO Requesting amino acid sequence of the canonical transcript ENSXMAT00000025955 of gene ENSXMAG00000007795 from UniProt.\n",
      "Wed Mar 15 15:11:22 2023 WARNING No reviewed UniProt results were found for ID ENSXMAT00000025955. Returning all unreviewed results.\n",
      "Wed Mar 15 15:11:29 2023 INFO Requesting amino acid sequence of the canonical transcript ENSORLT00000042845 of gene ENSORLG00000027485 from UniProt.\n",
      "Wed Mar 15 15:11:30 2023 WARNING No reviewed UniProt results were found for ID ENSORLT00000042845. Returning all unreviewed results.\n",
      "Wed Mar 15 15:11:38 2023 INFO Requesting amino acid sequence of the canonical transcript ENSONIT00000007259 of gene ENSONIG00000005754 from UniProt.\n",
      "Wed Mar 15 15:11:39 2023 WARNING No reviewed UniProt results were found for ID ENSONIT00000007259. Returning all unreviewed results.\n",
      "Wed Mar 15 15:11:44 2023 INFO Requesting amino acid sequence of the canonical transcript ENSHBUT00000017807 of gene ENSHBUG00000012388 from UniProt.\n",
      "Wed Mar 15 15:11:44 2023 WARNING No reviewed UniProt results were found for ID ENSHBUT00000017807. Returning all unreviewed results.\n",
      "Wed Mar 15 15:11:52 2023 INFO Requesting amino acid sequence of the canonical transcript ENSXETT00000038758 of gene ENSXETG00000017880 from UniProt.\n",
      "Wed Mar 15 15:11:52 2023 WARNING No reviewed UniProt results were found for ID ENSXETT00000038758. Returning all unreviewed results.\n",
      "Wed Mar 15 15:11:58 2023 INFO Requesting amino acid sequence of the canonical transcript ENSCPBT00000041660 of gene ENSCPBG00000024733 from UniProt.\n",
      "Wed Mar 15 15:11:59 2023 WARNING No reviewed UniProt results were found for ID ENSCPBT00000041660. Returning all unreviewed results.\n",
      "Wed Mar 15 15:12:04 2023 INFO Requesting amino acid sequence of the canonical transcript ENSMGAT00000029487 of gene ENSMGAG00000012047 from UniProt.\n",
      "Wed Mar 15 15:12:04 2023 WARNING No reviewed UniProt results were found for ID ENSMGAT00000029487. Returning all unreviewed results.\n",
      "Wed Mar 15 15:12:09 2023 INFO Requesting amino acid sequence of the canonical transcript ENSOANT00000073042 of gene ENSOANG00000043710 from UniProt.\n",
      "Wed Mar 15 15:12:09 2023 WARNING No reviewed UniProt results were found for ID ENSOANT00000073042. Returning all unreviewed results.\n",
      "Wed Mar 15 15:12:18 2023 INFO Requesting amino acid sequence of the canonical transcript ENSSHAT00000044019 of gene ENSSHAG00000031672 from UniProt.\n",
      "Wed Mar 15 15:12:18 2023 WARNING No reviewed UniProt results were found for ID ENSSHAT00000044019. Returning all unreviewed results.\n",
      "Wed Mar 15 15:12:23 2023 INFO Requesting amino acid sequence of the canonical transcript ENSMEUT00000016087 of gene ENSMEUG00000016046 from UniProt.\n",
      "Wed Mar 15 15:12:23 2023 WARNING No UniProt sequences were found for ID ENSMEUT00000016087.\n",
      "Wed Mar 15 15:12:23 2023 ERROR No UniProt amino acid sequences were found for these ID(s).\n",
      "Wed Mar 15 15:12:28 2023 INFO Requesting amino acid sequence of the canonical transcript ENSDNOT00000044450 of gene ENSDNOG00000047870 from UniProt.\n",
      "Wed Mar 15 15:12:28 2023 WARNING No UniProt sequences were found for ID ENSDNOT00000044450.\n",
      "Wed Mar 15 15:12:28 2023 ERROR No UniProt amino acid sequences were found for these ID(s).\n",
      "Wed Mar 15 15:12:33 2023 INFO Requesting amino acid sequence of the canonical transcript ENSEEUT00000004216 of gene ENSEEUG00000004221 from UniProt.\n",
      "Wed Mar 15 15:12:33 2023 WARNING No UniProt sequences were found for ID ENSEEUT00000004216.\n",
      "Wed Mar 15 15:12:33 2023 ERROR No UniProt amino acid sequences were found for these ID(s).\n",
      "Wed Mar 15 15:12:37 2023 INFO Requesting amino acid sequence of the canonical transcript ENSETET00000019472 of gene ENSETEG00000019472 from UniProt.\n",
      "Wed Mar 15 15:12:37 2023 WARNING No UniProt sequences were found for ID ENSETET00000019472.\n",
      "Wed Mar 15 15:12:37 2023 ERROR No UniProt amino acid sequences were found for these ID(s).\n",
      "Wed Mar 15 15:12:44 2023 INFO Requesting amino acid sequence of the canonical transcript ENSCJAT00000041125 of gene ENSCJAG00000020926 from UniProt.\n",
      "Wed Mar 15 15:12:45 2023 WARNING No reviewed UniProt results were found for ID ENSCJAT00000041125. Returning all unreviewed results.\n",
      "Wed Mar 15 15:12:54 2023 INFO Requesting amino acid sequence of the canonical transcript ENSMFAT00000018531 of gene ENSMFAG00000039488 from UniProt.\n",
      "Wed Mar 15 15:12:54 2023 WARNING No reviewed UniProt results were found for ID ENSMFAT00000018531. Returning all unreviewed results.\n",
      "Wed Mar 15 15:13:00 2023 INFO Requesting amino acid sequence of the canonical transcript ENSMMUT00000008438 of gene ENSMMUG00000006039 from UniProt.\n",
      "Wed Mar 15 15:13:01 2023 WARNING No reviewed UniProt results were found for ID ENSMMUT00000008438. Returning all unreviewed results.\n",
      "Wed Mar 15 15:13:08 2023 INFO Requesting amino acid sequence of the canonical transcript ENSGGOT00000047191 of gene ENSGGOG00000007164 from UniProt.\n",
      "Wed Mar 15 15:13:08 2023 WARNING No reviewed UniProt results were found for ID ENSGGOT00000047191. Returning all unreviewed results.\n",
      "Wed Mar 15 15:13:16 2023 INFO Requesting amino acid sequence of the canonical transcript ENSPTRT00000012739 of gene ENSPTRG00000006909 from UniProt.\n",
      "Wed Mar 15 15:13:16 2023 WARNING No reviewed UniProt results were found for ID ENSPTRT00000012739. Returning all unreviewed results.\n",
      "Wed Mar 15 15:13:22 2023 INFO Requesting amino acid sequence of the canonical transcript ENSPPYT00000057682 of gene ENSPPYG00000006340 from UniProt.\n",
      "Wed Mar 15 15:13:23 2023 WARNING No reviewed UniProt results were found for ID ENSPPYT00000057682. Returning all unreviewed results.\n",
      "Wed Mar 15 15:13:31 2023 INFO Requesting amino acid sequence of the canonical transcript ENSCAFT00845047440 of gene ENSCAFG00845026770 from UniProt.\n",
      "Wed Mar 15 15:13:31 2023 WARNING No reviewed UniProt results were found for ID ENSCAFT00845047440. Returning all unreviewed results.\n",
      "Wed Mar 15 15:13:38 2023 INFO Requesting amino acid sequence of the canonical transcript ENSAMET00000050197 of gene ENSAMEG00000029897 from UniProt.\n",
      "Wed Mar 15 15:13:38 2023 WARNING No reviewed UniProt results were found for ID ENSAMET00000050197. Returning all unreviewed results.\n",
      "Wed Mar 15 15:13:42 2023 INFO Requesting amino acid sequence of the canonical transcript ENSMPUT00000008363 of gene ENSMPUG00000008294 from UniProt.\n",
      "Wed Mar 15 15:13:42 2023 WARNING No reviewed UniProt results were found for ID ENSMPUT00000008363. Returning all unreviewed results.\n"
     ]
    },
    {
     "name": "stderr",
     "output_type": "stream",
     "text": [
      "Wed Mar 15 15:13:47 2023 INFO Requesting amino acid sequence of the canonical transcript ENSFCAT00000044218 of gene ENSFCAG00000038334 from UniProt.\n",
      "Wed Mar 15 15:13:47 2023 WARNING No reviewed UniProt results were found for ID ENSFCAT00000044218. Returning all unreviewed results.\n",
      "Wed Mar 15 15:13:54 2023 INFO Requesting amino acid sequence of the canonical transcript ENSTTRT00000000034 of gene ENSTTRG00000000034 from UniProt.\n",
      "Wed Mar 15 15:13:54 2023 WARNING No UniProt sequences were found for ID ENSTTRT00000000034.\n",
      "Wed Mar 15 15:13:54 2023 ERROR No UniProt amino acid sequences were found for these ID(s).\n",
      "Wed Mar 15 15:14:00 2023 INFO Requesting amino acid sequence of the canonical transcript ENSLAFT00000015632 of gene ENSLAFG00000015638 from UniProt.\n",
      "Wed Mar 15 15:14:00 2023 WARNING No reviewed UniProt results were found for ID ENSLAFT00000015632. Returning all unreviewed results.\n",
      "Wed Mar 15 15:14:08 2023 INFO Requesting amino acid sequence of the canonical transcript ENSECAT00000040680 of gene ENSECAG00000024806 from UniProt.\n",
      "Wed Mar 15 15:14:08 2023 WARNING No reviewed UniProt results were found for ID ENSECAT00000040680. Returning all unreviewed results.\n",
      "Wed Mar 15 15:14:16 2023 INFO Requesting amino acid sequence of the canonical transcript ENSBTAT00000061544 of gene ENSBTAG00000016826 from UniProt.\n",
      "Wed Mar 15 15:14:16 2023 WARNING No reviewed UniProt results were found for ID ENSBTAT00000061544. Returning all unreviewed results.\n",
      "Wed Mar 15 15:14:25 2023 INFO Requesting amino acid sequence of the canonical transcript ENSCHIT00000024879 of gene ENSCHIG00000017083 from UniProt.\n",
      "Wed Mar 15 15:14:26 2023 WARNING No reviewed UniProt results were found for ID ENSCHIT00000024879. Returning all unreviewed results.\n",
      "Wed Mar 15 15:14:30 2023 INFO Requesting amino acid sequence of the canonical transcript ENSOART00020013745 of gene ENSOARG00020008920 from UniProt.\n",
      "Wed Mar 15 15:14:30 2023 WARNING No UniProt sequences were found for ID ENSOART00020013745.\n",
      "Wed Mar 15 15:14:30 2023 ERROR No UniProt amino acid sequences were found for these ID(s).\n",
      "Wed Mar 15 15:14:34 2023 INFO Requesting amino acid sequence of the canonical transcript ENSOPRT00000006827 of gene ENSOPRG00000006835 from UniProt.\n",
      "Wed Mar 15 15:14:34 2023 WARNING No UniProt sequences were found for ID ENSOPRT00000006827.\n",
      "Wed Mar 15 15:14:34 2023 ERROR No UniProt amino acid sequences were found for these ID(s).\n",
      "Wed Mar 15 15:14:41 2023 INFO Requesting amino acid sequence of the canonical transcript ENSOCUT00000002118 of gene ENSOCUG00000002118 from UniProt.\n",
      "Wed Mar 15 15:14:42 2023 WARNING No reviewed UniProt results were found for ID ENSOCUT00000002118. Returning all unreviewed results.\n",
      "Wed Mar 15 15:14:46 2023 INFO Requesting amino acid sequence of the canonical transcript ENSTNIT00000015380 of gene ENSTNIG00000012210 from UniProt.\n",
      "Wed Mar 15 15:14:46 2023 WARNING No reviewed UniProt results were found for ID ENSTNIT00000015380. Returning all unreviewed results.\n"
     ]
    },
    {
     "name": "stdout",
     "output_type": "stream",
     "text": [
      "\r\n",
      "\r\n",
      "Building a new DB, current time: 03/15/2023 15:14:46\r\n",
      "New DB name:   /home/vecerkok/gallus_gallus_ENSG00000166073.fasta\r\n",
      "New DB title:  gallus_gallus_ENSG00000166073.fasta\r\n",
      "Sequence type: Protein\r\n",
      "Deleted existing Protein BLAST database named /home/vecerkok/gallus_gallus_ENSG00000166073.fasta\r\n",
      "Keep MBits: T\r\n",
      "Maximum file size: 1000000000B\r\n",
      "Adding sequences from FASTA; added 40 sequences in 0.00808191 seconds.\r\n",
      "\r\n",
      "\r\n"
     ]
    }
   ],
   "source": [
    "# TODO clean up code\n",
    "\n",
    "for i, trinity in enumerate(genes_to_search):\n",
    "    try:\n",
    "        organism_with_missing, organism_with_ortholog, gene_to_search = trinity\n",
    "        print(f\"Searching for gene {gene_to_search}\")\n",
    "\n",
    "        # identify target neighbors\n",
    "        neighbors_min = 10\n",
    "        neighbors_max = 15\n",
    "\n",
    "        left_neighbor_target_ensembl_id = None\n",
    "        for j in range (neighbors_min, neighbors_max):\n",
    "            print(j)\n",
    "            left_neighbors_df = find_synteny_neighbors_left(organism_with_ortholog, gene_to_search, orthology_table_df, j, downloaded_genomes_dir)\n",
    "            \n",
    "            left_neighbor_target_ensembl_id = find_target_neighbor(left_neighbors_df, orthology_table_df, organism_with_missing)\n",
    "            if left_neighbor_target_ensembl_id:\n",
    "                break\n",
    "\n",
    "        right_neighbor_target_ensembl_id = None\n",
    "        for k in range (neighbors_min, neighbors_max):\n",
    "            print(k)\n",
    "            right_neighbors_df = find_synteny_neighbors_right(organism_with_ortholog, gene_to_search, orthology_table_df, k, downloaded_genomes_dir)\n",
    "           \n",
    "            right_neighbor_target_ensembl_id = find_target_neighbor(right_neighbors_df, orthology_table_df, organism_with_missing)\n",
    "            if right_neighbor_target_ensembl_id:\n",
    "                break\n",
    "                \n",
    "         # identify scaffolds\n",
    "        try:\n",
    "            left_neighbor_scaffold_id = get_scaffold_id(left_neighbor_target_ensembl_id)\n",
    "        except KeyError:\n",
    "            print(f\"No scaffold id for {left_neighbor_target_ensembl_id}\")\n",
    "            ext = f\"/lookup/id/{left_neighbor_target_ensembl_id}?\"\n",
    "            response = requests.get(ens_api+ext, headers={\"Content-Type\": \"application/json\"})\n",
    "            response = response.json()\n",
    "            print(response)\n",
    "            left_neighbor_scaffold_id = None\n",
    "\n",
    "        try:\n",
    "            right_neighbor_scaffold_id = get_scaffold_id(right_neighbor_target_ensembl_id)\n",
    "        except KeyError:\n",
    "            print(f\"No scaffold id for {right_neighbor_target_ensembl_id}\")\n",
    "            ext = f\"/lookup/id/{right_neighbor_target_ensembl_id}?\"\n",
    "            response = requests.get(ens_api+ext, headers={\"Content-Type\": \"application/json\"})\n",
    "            response = response.json()\n",
    "            print(response)\n",
    "            right_neighbor_scaffold_id = None\n",
    "            \n",
    "        target_nucleotide_sequence = None\n",
    "        # retrieve nuclotide sequence from target if on the same scaffold\n",
    "        if (left_neighbor_scaffold_id == right_neighbor_scaffold_id) and left_neighbor_scaffold_id and right_neighbor_scaffold_id and (left_neighbor_target_ensembl_id != right_neighbor_target_ensembl_id):\n",
    "            scaffold_id = left_neighbor_scaffold_id\n",
    "\n",
    "            # identify target sequence coordinates\n",
    "            left_neighbor_target_end = max(gget.info(left_neighbor_target_ensembl_id, verbose=False)[\"transcript_ends\"].values[0])\n",
    "            right_neighbor_target_start = min(gget.info(right_neighbor_target_ensembl_id, verbose=False)[\"transcript_starts\"].values[0])\n",
    "\n",
    "            # get target sequence fasta file and nt sequence in df for futher analysis\n",
    "            target_nucleotide_fasta = get_target_nucleotide_fasta(left_neighbor_target_end, right_neighbor_target_start, scaffold_id, organism_with_missing)\n",
    "            \n",
    "            target_nucleotide_sequence = None\n",
    "            try:\n",
    "                target_nucleotide_sequence = get_sequence_from_fasta(target_nucleotide_fasta)\n",
    "            except Exception as f:\n",
    "                print(f)\n",
    "\n",
    "            # write sequence to file\n",
    "            target_sequence_filename = target_sequences_directory / (organism_with_missing + \"_\" + gene_to_search + \".fasta\")\n",
    "            with open(target_sequence_filename, \"w\") as file:\n",
    "                file.write(target_nucleotide_fasta)\n",
    "\n",
    "        # write results to table\n",
    "        \n",
    "        orthologs_db_filename = None\n",
    "        blastx_res_filename = None\n",
    "        if target_nucleotide_sequence:\n",
    "            orthologs_db_filename = pathlib.Path(organism_with_missing + \"_\" + gene_to_search + \".fasta\")\n",
    "            orthologs_ids = get_missing_gene_orthologs_ensembl_ids(gene_to_search, organism_with_ortholog, orthology_table_df)\n",
    "            protein_sequences = get_list_of_protein_sequences(orthologs_ids)\n",
    "            save_list_of_sequences_to_fasta(protein_sequences, orthologs_db_filename)\n",
    "            make_protein_blast_db_from_fasta(orthologs_db_filename)\n",
    "            \n",
    "            # run blastx\n",
    "            blastx_res_filename = pathlib.Path(organism_with_missing + \"_\" + gene_to_search + \".out\")\n",
    "            run_blastx(target_sequence_filename, orthologs_db_filename, blastx_res_filename)\n",
    "        \n",
    "        gene_search_df.loc[i, :] = [organism_with_missing, organism_with_ortholog, gene_to_search, left_neighbor_target_ensembl_id, right_neighbor_target_ensembl_id, left_neighbor_scaffold_id, right_neighbor_scaffold_id, target_nucleotide_sequence, orthologs_db_filename, blastx_res_filename]\n",
    "    except Exception as e:\n",
    "        print(gene_to_search)\n",
    "        print(e)"
   ]
  },
  {
   "cell_type": "code",
   "execution_count": 35,
   "id": "597eb0bb",
   "metadata": {
    "execution": {
     "iopub.execute_input": "2023-03-15T09:14:03.104091Z",
     "iopub.status.busy": "2023-03-15T09:14:03.103716Z",
     "iopub.status.idle": "2023-03-15T09:14:03.136551Z",
     "shell.execute_reply": "2023-03-15T09:14:03.135751Z"
    }
   },
   "outputs": [
    {
     "data": {
      "text/html": [
       "<div>\n",
       "<style scoped>\n",
       "    .dataframe tbody tr th:only-of-type {\n",
       "        vertical-align: middle;\n",
       "    }\n",
       "\n",
       "    .dataframe tbody tr th {\n",
       "        vertical-align: top;\n",
       "    }\n",
       "\n",
       "    .dataframe thead th {\n",
       "        text-align: right;\n",
       "    }\n",
       "</style>\n",
       "<table border=\"1\" class=\"dataframe\">\n",
       "  <thead>\n",
       "    <tr style=\"text-align: right;\">\n",
       "      <th></th>\n",
       "      <th>organism_target</th>\n",
       "      <th>organism_with_ortholog</th>\n",
       "      <th>ortholog_ensembl_id</th>\n",
       "      <th>left_neighbor_target</th>\n",
       "      <th>right_neighbor_target</th>\n",
       "      <th>left_neighbor_scaffold_id_target</th>\n",
       "      <th>right_neighbor_scaffold_id_target</th>\n",
       "      <th>nt_seq_target</th>\n",
       "      <th>protein_blast_db</th>\n",
       "      <th>blastx_results</th>\n",
       "    </tr>\n",
       "  </thead>\n",
       "  <tbody>\n",
       "    <tr>\n",
       "      <th>0</th>\n",
       "      <td>gallus_gallus</td>\n",
       "      <td>homo_sapiens</td>\n",
       "      <td>ENSG00000166073</td>\n",
       "      <td>ENSGALG00010021084</td>\n",
       "      <td>ENSGALG00010023319</td>\n",
       "      <td>5</td>\n",
       "      <td>5</td>\n",
       "      <td>AAAAGGCTCAGTAGCCAAACCTTTTATTACCCAAAAGTTCTTCAAA...</td>\n",
       "      <td>gallus_gallus_ENSG00000166073.fasta</td>\n",
       "      <td>gallus_gallus_ENSG00000166073.out</td>\n",
       "    </tr>\n",
       "  </tbody>\n",
       "</table>\n",
       "</div>"
      ],
      "text/plain": [
       "  organism_target organism_with_ortholog ortholog_ensembl_id  \\\n",
       "0   gallus_gallus           homo_sapiens     ENSG00000166073   \n",
       "\n",
       "  left_neighbor_target right_neighbor_target left_neighbor_scaffold_id_target  \\\n",
       "0   ENSGALG00010021084    ENSGALG00010023319                                5   \n",
       "\n",
       "  right_neighbor_scaffold_id_target  \\\n",
       "0                                 5   \n",
       "\n",
       "                                       nt_seq_target  \\\n",
       "0  AAAAGGCTCAGTAGCCAAACCTTTTATTACCCAAAAGTTCTTCAAA...   \n",
       "\n",
       "                      protein_blast_db                     blastx_results  \n",
       "0  gallus_gallus_ENSG00000166073.fasta  gallus_gallus_ENSG00000166073.out  "
      ]
     },
     "execution_count": 35,
     "metadata": {},
     "output_type": "execute_result"
    }
   ],
   "source": [
    "gene_search_df"
   ]
  },
  {
   "cell_type": "code",
   "execution_count": 32,
   "id": "acee834e",
   "metadata": {
    "execution": {
     "iopub.execute_input": "2023-03-15T09:14:03.141337Z",
     "iopub.status.busy": "2023-03-15T09:14:03.141017Z",
     "iopub.status.idle": "2023-03-15T09:14:03.934953Z",
     "shell.execute_reply": "2023-03-15T09:14:03.933747Z"
    }
   },
   "outputs": [],
   "source": [
    "gene_search_df.to_csv(gene_search_result_file)"
   ]
  }
 ],
 "metadata": {
  "kernelspec": {
   "display_name": "Python 3 (ipykernel)",
   "language": "python",
   "name": "python3"
  },
  "language_info": {
   "codemirror_mode": {
    "name": "ipython",
    "version": 3
   },
   "file_extension": ".py",
   "mimetype": "text/x-python",
   "name": "python",
   "nbconvert_exporter": "python",
   "pygments_lexer": "ipython3",
   "version": "3.10.10"
  }
 },
 "nbformat": 4,
 "nbformat_minor": 5
}
